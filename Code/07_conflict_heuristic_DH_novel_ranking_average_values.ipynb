{
 "cells": [
  {
   "cell_type": "markdown",
   "id": "02d91d37",
   "metadata": {},
   "source": [
    "# Towards a Conflict Heuristic (DH 2023)\n",
    "\n",
    "## 07. Novel Ranking Average Values\n",
    "\n",
    "Last updated: 10.07.2023\n",
    "\n",
    "julian.haeussler[at]tu-darmstadt.de"
   ]
  },
  {
   "cell_type": "code",
   "execution_count": 1,
   "id": "ec3cf65f",
   "metadata": {},
   "outputs": [],
   "source": [
    "# imports\n",
    "\n",
    "import csv\n",
    "import glob\n",
    "import math\n",
    "import os\n",
    "import pandas as pd\n",
    "import pickle\n",
    "import re"
   ]
  },
  {
   "cell_type": "code",
   "execution_count": null,
   "id": "f9d24264",
   "metadata": {},
   "outputs": [],
   "source": []
  },
  {
   "cell_type": "code",
   "execution_count": 2,
   "id": "d8f6be7d",
   "metadata": {},
   "outputs": [],
   "source": [
    "# load data\n",
    "\n",
    "# verb phrases + values\n",
    "\n",
    "df_VPs_Romantik_core = pd.read_csv('../Analyseergebnisse/csv/230420_df_VPs_Romantik_core.csv', index_col=0)"
   ]
  },
  {
   "cell_type": "code",
   "execution_count": 3,
   "id": "d7199c40",
   "metadata": {},
   "outputs": [],
   "source": [
    "df_VPs_Realismus = pd.read_csv('../Analyseergebnisse/csv/230420_df_VPs_Realismus.csv', index_col=0)"
   ]
  },
  {
   "cell_type": "code",
   "execution_count": 4,
   "id": "ba224283",
   "metadata": {},
   "outputs": [],
   "source": [
    "df_VPs_Naturalismus = pd.read_csv('../Analyseergebnisse/csv/230420_df_VPs_Naturalismus.csv', index_col=0)"
   ]
  },
  {
   "cell_type": "code",
   "execution_count": null,
   "id": "28787670",
   "metadata": {},
   "outputs": [],
   "source": []
  },
  {
   "cell_type": "code",
   "execution_count": 5,
   "id": "92f05fe3",
   "metadata": {},
   "outputs": [],
   "source": [
    "# titles\n",
    "\n",
    "lst_titles_Romantik = []\n",
    "\n",
    "lst_files = glob.glob(os.path.join(os.getcwd(), r'../Daten/Romantik (abgeschlossen)/TXT/Kernkorpus', '*.txt'))\n",
    "\n",
    "for entry in lst_files:\n",
    "    lst_titles_Romantik.append(re.search(r\"(?<=Kernkorpus\\\\)(.*)(?=.txt)\",entry).group(1))"
   ]
  },
  {
   "cell_type": "code",
   "execution_count": 6,
   "id": "edd8b0c4",
   "metadata": {},
   "outputs": [],
   "source": [
    "lst_titles_Realismus = []\n",
    "\n",
    "lst_files = glob.glob(os.path.join(os.getcwd(), r'../Daten/Realismus', '*.txt'))\n",
    "\n",
    "for entry in lst_files:\n",
    "    lst_titles_Realismus.append(re.search(r\"(?<=Realismus\\\\)(.*)(?=.txt)\",entry).group(1))"
   ]
  },
  {
   "cell_type": "code",
   "execution_count": 7,
   "id": "c4a479a6",
   "metadata": {},
   "outputs": [],
   "source": [
    "lst_titles_Naturalismus = []\n",
    "\n",
    "lst_files = glob.glob(os.path.join(os.getcwd(), r'../Daten/Naturalismus', '*.txt'))\n",
    "\n",
    "for entry in lst_files:\n",
    "    lst_titles_Naturalismus.append(re.search(r\"(?<=Naturalismus\\\\)(.*)(?=.txt)\",entry).group(1))"
   ]
  },
  {
   "cell_type": "code",
   "execution_count": null,
   "id": "03b5d46d",
   "metadata": {},
   "outputs": [],
   "source": []
  },
  {
   "cell_type": "code",
   "execution_count": 8,
   "id": "a5a8d377",
   "metadata": {},
   "outputs": [],
   "source": [
    "# years\n",
    "\n",
    "file = r'../Daten/Romantik (abgeschlossen)/Romane der Romantik_selection.xlsx'\n",
    "\n",
    "df_meta_Romantik = pd.read_excel(file)\n",
    "\n",
    "lst_yrs_Romantik = df_meta_Romantik['Datum Erstdruck'].tolist()"
   ]
  },
  {
   "cell_type": "code",
   "execution_count": 9,
   "id": "2366edd2",
   "metadata": {},
   "outputs": [],
   "source": [
    "lst_yrs_Romantik[1] = 1812 # Arnim_Achim_von_Die_Kronenwaechter_Erster_Band\n",
    "lst_yrs_Romantik[2] = 1817 # Arnim_Achim_von_Die_Kronenwaechter_Zweiter_Band\n",
    "lst_yrs_Romantik[10] = 1795 # Hoelderlin_Friedrich_Hyperions_Jugend\n",
    "lst_yrs_Romantik[11] = 1797 # Hoelderlin_Friedrich_Hyperion_oder_der_Eremit_in_Griechenland"
   ]
  },
  {
   "cell_type": "code",
   "execution_count": 10,
   "id": "e0454130",
   "metadata": {},
   "outputs": [],
   "source": [
    "file = r'../Daten/Metadaten_Korpus_Realismus_Romane_d-Prose.xlsx'\n",
    "\n",
    "df_meta_Realismus = pd.read_excel(file)\n",
    "\n",
    "lst_yrs_Realismus = df_meta_Realismus['verwendetes Datum'].tolist()"
   ]
  },
  {
   "cell_type": "code",
   "execution_count": 11,
   "id": "95dc8356",
   "metadata": {},
   "outputs": [],
   "source": [
    "file = r'../Daten/Metadaten_Korpus_Naturalismus_Romane_d-Prose.xlsx'\n",
    "\n",
    "df_meta_Naturalismus = pd.read_excel(file)\n",
    "\n",
    "lst_yrs_Naturalismus = df_meta_Naturalismus['verwendetes Datum'].tolist()"
   ]
  },
  {
   "cell_type": "code",
   "execution_count": null,
   "id": "979aefb1",
   "metadata": {},
   "outputs": [],
   "source": []
  },
  {
   "cell_type": "code",
   "execution_count": 12,
   "id": "8d9ba69c",
   "metadata": {},
   "outputs": [],
   "source": [
    "# create dataframes novel ranking\n",
    "\n",
    "df_novels_ranked_Romantik_core = pd.DataFrame(columns=['novel','year','mean_aro_adj','mean_val_adj',\n",
    "                                                       'mean_conf_dornseiff', 'mean_conf_annotation'])"
   ]
  },
  {
   "cell_type": "code",
   "execution_count": 13,
   "id": "33275ea8",
   "metadata": {},
   "outputs": [],
   "source": [
    "df_novels_ranked_Realismus_Naturalismus = pd.DataFrame(columns=['novel','year','mean_aro_adj','mean_val_adj',\n",
    "                                                                'mean_conf_dornseiff', 'mean_conf_annotation'])"
   ]
  },
  {
   "cell_type": "code",
   "execution_count": null,
   "id": "3193aa4a",
   "metadata": {},
   "outputs": [],
   "source": []
  },
  {
   "cell_type": "code",
   "execution_count": 14,
   "id": "9a726b43",
   "metadata": {},
   "outputs": [],
   "source": [
    "# fill column novels\n",
    "\n",
    "df_novels_ranked_Romantik_core['novel'] = lst_titles_Romantik"
   ]
  },
  {
   "cell_type": "code",
   "execution_count": 15,
   "id": "d5afb52f",
   "metadata": {},
   "outputs": [],
   "source": [
    "lst_titles_Realismus_Naturalismus = lst_titles_Realismus.copy()"
   ]
  },
  {
   "cell_type": "code",
   "execution_count": 16,
   "id": "7ae56878",
   "metadata": {},
   "outputs": [],
   "source": [
    "lst_titles_Realismus_Naturalismus.extend(lst_titles_Naturalismus)"
   ]
  },
  {
   "cell_type": "code",
   "execution_count": 17,
   "id": "dd957f8b",
   "metadata": {},
   "outputs": [],
   "source": [
    "df_novels_ranked_Realismus_Naturalismus['novel'] = lst_titles_Realismus_Naturalismus"
   ]
  },
  {
   "cell_type": "code",
   "execution_count": null,
   "id": "ad92a16e",
   "metadata": {},
   "outputs": [],
   "source": []
  },
  {
   "cell_type": "code",
   "execution_count": 18,
   "id": "93bc7020",
   "metadata": {},
   "outputs": [],
   "source": [
    "# fill column year\n",
    "\n",
    "df_novels_ranked_Romantik_core['year'] = lst_yrs_Romantik"
   ]
  },
  {
   "cell_type": "code",
   "execution_count": 19,
   "id": "45146cec",
   "metadata": {},
   "outputs": [],
   "source": [
    "lst_yrs_Realismus_Naturalismus = lst_yrs_Realismus.copy()\n",
    "\n",
    "lst_yrs_Realismus_Naturalismus.extend(lst_yrs_Naturalismus)"
   ]
  },
  {
   "cell_type": "code",
   "execution_count": 20,
   "id": "607177ff",
   "metadata": {},
   "outputs": [],
   "source": [
    "df_novels_ranked_Realismus_Naturalismus['year'] = lst_yrs_Realismus_Naturalismus"
   ]
  },
  {
   "cell_type": "code",
   "execution_count": null,
   "id": "34c890b3",
   "metadata": {},
   "outputs": [],
   "source": []
  },
  {
   "cell_type": "code",
   "execution_count": 21,
   "id": "0e3e7c22",
   "metadata": {},
   "outputs": [],
   "source": [
    "# transform dataframes VPs into dicts\n",
    "\n",
    "dict_VPs_Romantik_core = df_VPs_Romantik_core.to_dict(orient='records')"
   ]
  },
  {
   "cell_type": "code",
   "execution_count": 22,
   "id": "da46cf6b",
   "metadata": {},
   "outputs": [],
   "source": [
    "df_VPs_Realismus_Naturalismus = df_VPs_Realismus.copy()"
   ]
  },
  {
   "cell_type": "code",
   "execution_count": 23,
   "id": "9e7dd166",
   "metadata": {},
   "outputs": [
    {
     "name": "stderr",
     "output_type": "stream",
     "text": [
      "C:\\Users\\haeus\\AppData\\Local\\Temp\\ipykernel_13756\\1485876350.py:1: FutureWarning: The frame.append method is deprecated and will be removed from pandas in a future version. Use pandas.concat instead.\n",
      "  df_VPs_Realismus_Naturalismus = df_VPs_Realismus_Naturalismus.append(df_VPs_Naturalismus, ignore_index=True)\n"
     ]
    }
   ],
   "source": [
    "df_VPs_Realismus_Naturalismus = df_VPs_Realismus_Naturalismus.append(df_VPs_Naturalismus, ignore_index=True)"
   ]
  },
  {
   "cell_type": "code",
   "execution_count": 24,
   "id": "332f5a3f",
   "metadata": {},
   "outputs": [],
   "source": [
    "dict_VPs_Realismus_Naturalismus = df_VPs_Realismus_Naturalismus.to_dict(orient='records')"
   ]
  },
  {
   "cell_type": "code",
   "execution_count": null,
   "id": "cc20e2c0",
   "metadata": {},
   "outputs": [],
   "source": []
  },
  {
   "cell_type": "code",
   "execution_count": 25,
   "id": "b38d7286",
   "metadata": {},
   "outputs": [],
   "source": [
    "# fill columns 'mean_aro_adj', 'mean_val_adj', 'mean_conf_dornseiff' and 'mean_conf_annotation'\n",
    "\n",
    "# Romantik core\n",
    "\n",
    "lst_mean_aro_adj_Romantik_core = []\n",
    "lst_mean_val_adj_Romantik_core = []\n",
    "lst_mean_conf_dornseiff_Romantik_core = []\n",
    "lst_mean_conf_annotation_Romantik_core = []\n",
    "\n",
    "for title in lst_titles_Romantik:\n",
    "    lst_aro_all = []\n",
    "    lst_val_all = []\n",
    "    lst_dorn_all = []\n",
    "    lst_anno_all = []\n",
    "    for i in range(0,len(dict_VPs_Romantik_core)):\n",
    "        if dict_VPs_Romantik_core[i]['novel_title'] == title:\n",
    "            aro = dict_VPs_Romantik_core[i]['mean_aro_adj']\n",
    "            val = dict_VPs_Romantik_core[i]['mean_val_adj']\n",
    "            dorn = dict_VPs_Romantik_core[i]['mean_conf_dornseiff']\n",
    "            anno = dict_VPs_Romantik_core[i]['mean_conf_annotation']\n",
    "                \n",
    "            if math.isnan(aro) == False:\n",
    "                lst_aro_all.append(aro)\n",
    "            if math.isnan(val) == False:\n",
    "                lst_val_all.append(val)\n",
    "            if math.isnan(dorn) == False:\n",
    "                lst_dorn_all.append(dorn)               \n",
    "            if math.isnan(anno) == False:\n",
    "                lst_anno_all.append(anno)\n",
    "    \n",
    "    lst_mean_aro_adj_Romantik_core.append(sum(lst_aro_all)/len(lst_aro_all))\n",
    "    lst_mean_val_adj_Romantik_core.append(sum(lst_val_all)/len(lst_val_all))\n",
    "    lst_mean_conf_dornseiff_Romantik_core.append(sum(lst_dorn_all)/len(lst_dorn_all))\n",
    "    lst_mean_conf_annotation_Romantik_core.append(sum(lst_anno_all)/len(lst_anno_all))"
   ]
  },
  {
   "cell_type": "code",
   "execution_count": 26,
   "id": "5bd59850",
   "metadata": {},
   "outputs": [
    {
     "name": "stdout",
     "output_type": "stream",
     "text": [
      "26\n",
      "26\n",
      "26\n",
      "26\n"
     ]
    }
   ],
   "source": [
    "print(len(lst_mean_aro_adj_Romantik_core))\n",
    "print(len(lst_mean_val_adj_Romantik_core))\n",
    "print(len(lst_mean_conf_dornseiff_Romantik_core))\n",
    "print(len(lst_mean_conf_annotation_Romantik_core))"
   ]
  },
  {
   "cell_type": "code",
   "execution_count": 27,
   "id": "4304e163",
   "metadata": {},
   "outputs": [],
   "source": [
    "df_novels_ranked_Romantik_core['mean_aro_adj'] = lst_mean_aro_adj_Romantik_core\n",
    "df_novels_ranked_Romantik_core['mean_val_adj'] = lst_mean_val_adj_Romantik_core\n",
    "df_novels_ranked_Romantik_core['mean_conf_dornseiff'] = lst_mean_conf_dornseiff_Romantik_core\n",
    "df_novels_ranked_Romantik_core['mean_conf_annotation'] = lst_mean_conf_annotation_Romantik_core"
   ]
  },
  {
   "cell_type": "code",
   "execution_count": 28,
   "id": "39180578",
   "metadata": {},
   "outputs": [
    {
     "data": {
      "text/html": [
       "<div>\n",
       "<style scoped>\n",
       "    .dataframe tbody tr th:only-of-type {\n",
       "        vertical-align: middle;\n",
       "    }\n",
       "\n",
       "    .dataframe tbody tr th {\n",
       "        vertical-align: top;\n",
       "    }\n",
       "\n",
       "    .dataframe thead th {\n",
       "        text-align: right;\n",
       "    }\n",
       "</style>\n",
       "<table border=\"1\" class=\"dataframe\">\n",
       "  <thead>\n",
       "    <tr style=\"text-align: right;\">\n",
       "      <th></th>\n",
       "      <th>novel</th>\n",
       "      <th>year</th>\n",
       "      <th>mean_aro_adj</th>\n",
       "      <th>mean_val_adj</th>\n",
       "      <th>mean_conf_dornseiff</th>\n",
       "      <th>mean_conf_annotation</th>\n",
       "    </tr>\n",
       "  </thead>\n",
       "  <tbody>\n",
       "    <tr>\n",
       "      <th>0</th>\n",
       "      <td>Arnim_Achim_von_Armut,_Reichtum,_Schuld_und_Bu...</td>\n",
       "      <td>1810</td>\n",
       "      <td>0.007470</td>\n",
       "      <td>-0.010451</td>\n",
       "      <td>-0.000126</td>\n",
       "      <td>-0.016061</td>\n",
       "    </tr>\n",
       "    <tr>\n",
       "      <th>1</th>\n",
       "      <td>Arnim_Achim_von_Die_Kronenwaechter_Erster_Band</td>\n",
       "      <td>1812</td>\n",
       "      <td>0.005924</td>\n",
       "      <td>-0.011534</td>\n",
       "      <td>0.002519</td>\n",
       "      <td>-0.013823</td>\n",
       "    </tr>\n",
       "    <tr>\n",
       "      <th>2</th>\n",
       "      <td>Arnim_Achim_von_Die_Kronenwaechter_Zweiter_Band</td>\n",
       "      <td>1817</td>\n",
       "      <td>0.006887</td>\n",
       "      <td>-0.013096</td>\n",
       "      <td>0.003157</td>\n",
       "      <td>-0.012190</td>\n",
       "    </tr>\n",
       "    <tr>\n",
       "      <th>3</th>\n",
       "      <td>Arnim_Achim_von_Hollins_Liebeleben</td>\n",
       "      <td>1802</td>\n",
       "      <td>0.009937</td>\n",
       "      <td>-0.009634</td>\n",
       "      <td>0.000725</td>\n",
       "      <td>-0.016707</td>\n",
       "    </tr>\n",
       "    <tr>\n",
       "      <th>4</th>\n",
       "      <td>Brentano_Clemens_Godwi_oder_Das_steinerne_Bild...</td>\n",
       "      <td>1802</td>\n",
       "      <td>0.007211</td>\n",
       "      <td>-0.010161</td>\n",
       "      <td>-0.001509</td>\n",
       "      <td>-0.017165</td>\n",
       "    </tr>\n",
       "  </tbody>\n",
       "</table>\n",
       "</div>"
      ],
      "text/plain": [
       "                                               novel  year  mean_aro_adj  \\\n",
       "0  Arnim_Achim_von_Armut,_Reichtum,_Schuld_und_Bu...  1810      0.007470   \n",
       "1     Arnim_Achim_von_Die_Kronenwaechter_Erster_Band  1812      0.005924   \n",
       "2    Arnim_Achim_von_Die_Kronenwaechter_Zweiter_Band  1817      0.006887   \n",
       "3                 Arnim_Achim_von_Hollins_Liebeleben  1802      0.009937   \n",
       "4  Brentano_Clemens_Godwi_oder_Das_steinerne_Bild...  1802      0.007211   \n",
       "\n",
       "   mean_val_adj  mean_conf_dornseiff  mean_conf_annotation  \n",
       "0     -0.010451            -0.000126             -0.016061  \n",
       "1     -0.011534             0.002519             -0.013823  \n",
       "2     -0.013096             0.003157             -0.012190  \n",
       "3     -0.009634             0.000725             -0.016707  \n",
       "4     -0.010161            -0.001509             -0.017165  "
      ]
     },
     "execution_count": 28,
     "metadata": {},
     "output_type": "execute_result"
    }
   ],
   "source": [
    "df_novels_ranked_Romantik_core.head()"
   ]
  },
  {
   "cell_type": "code",
   "execution_count": null,
   "id": "7cdd00b4",
   "metadata": {},
   "outputs": [],
   "source": []
  },
  {
   "cell_type": "code",
   "execution_count": 29,
   "id": "46798782",
   "metadata": {},
   "outputs": [],
   "source": [
    "# Realismus Naturalismus\n",
    "\n",
    "lst_mean_aro_adj_Realismus_Naturalismus = []\n",
    "lst_mean_val_adj_Realismus_Naturalismus = []\n",
    "lst_mean_conf_dornseiff_Realismus_Naturalismus = []\n",
    "lst_mean_conf_annotation_Realismus_Naturalismus = []\n",
    "\n",
    "for title in lst_titles_Realismus_Naturalismus:\n",
    "    lst_aro_all = []\n",
    "    lst_val_all = []\n",
    "    lst_dorn_all = []\n",
    "    lst_anno_all = []\n",
    "    for i in range(0,len(dict_VPs_Realismus_Naturalismus)):\n",
    "        if dict_VPs_Realismus_Naturalismus[i]['novel_title'] == title:\n",
    "            aro = dict_VPs_Realismus_Naturalismus[i]['mean_aro_adj']\n",
    "            val = dict_VPs_Realismus_Naturalismus[i]['mean_val_adj']\n",
    "            dorn = dict_VPs_Realismus_Naturalismus[i]['mean_conf_dornseiff']\n",
    "            anno = dict_VPs_Realismus_Naturalismus[i]['mean_conf_annotation']\n",
    "                \n",
    "            if math.isnan(aro) == False:\n",
    "                lst_aro_all.append(aro)\n",
    "            if math.isnan(val) == False:\n",
    "                lst_val_all.append(val)\n",
    "            if math.isnan(dorn) == False:\n",
    "                lst_dorn_all.append(dorn)               \n",
    "            if math.isnan(anno) == False:\n",
    "                lst_anno_all.append(anno)\n",
    "    \n",
    "    lst_mean_aro_adj_Realismus_Naturalismus.append(sum(lst_aro_all)/len(lst_aro_all))\n",
    "    lst_mean_val_adj_Realismus_Naturalismus.append(sum(lst_val_all)/len(lst_val_all))\n",
    "    lst_mean_conf_dornseiff_Realismus_Naturalismus.append(sum(lst_dorn_all)/len(lst_dorn_all))\n",
    "    lst_mean_conf_annotation_Realismus_Naturalismus.append(sum(lst_anno_all)/len(lst_anno_all))"
   ]
  },
  {
   "cell_type": "code",
   "execution_count": 30,
   "id": "77aa084e",
   "metadata": {},
   "outputs": [
    {
     "name": "stdout",
     "output_type": "stream",
     "text": [
      "102\n",
      "102\n",
      "102\n",
      "102\n"
     ]
    }
   ],
   "source": [
    "print(len(lst_mean_aro_adj_Realismus_Naturalismus))\n",
    "print(len(lst_mean_val_adj_Realismus_Naturalismus))\n",
    "print(len(lst_mean_conf_dornseiff_Realismus_Naturalismus))\n",
    "print(len(lst_mean_conf_annotation_Realismus_Naturalismus))"
   ]
  },
  {
   "cell_type": "code",
   "execution_count": 31,
   "id": "f15b5a00",
   "metadata": {},
   "outputs": [],
   "source": [
    "df_novels_ranked_Realismus_Naturalismus['mean_aro_adj'] = lst_mean_aro_adj_Realismus_Naturalismus\n",
    "df_novels_ranked_Realismus_Naturalismus['mean_val_adj'] = lst_mean_val_adj_Realismus_Naturalismus\n",
    "df_novels_ranked_Realismus_Naturalismus['mean_conf_dornseiff'] = lst_mean_conf_dornseiff_Realismus_Naturalismus\n",
    "df_novels_ranked_Realismus_Naturalismus['mean_conf_annotation'] = lst_mean_conf_annotation_Realismus_Naturalismus"
   ]
  },
  {
   "cell_type": "code",
   "execution_count": 32,
   "id": "8d972bc2",
   "metadata": {},
   "outputs": [
    {
     "data": {
      "text/html": [
       "<div>\n",
       "<style scoped>\n",
       "    .dataframe tbody tr th:only-of-type {\n",
       "        vertical-align: middle;\n",
       "    }\n",
       "\n",
       "    .dataframe tbody tr th {\n",
       "        vertical-align: top;\n",
       "    }\n",
       "\n",
       "    .dataframe thead th {\n",
       "        text-align: right;\n",
       "    }\n",
       "</style>\n",
       "<table border=\"1\" class=\"dataframe\">\n",
       "  <thead>\n",
       "    <tr style=\"text-align: right;\">\n",
       "      <th></th>\n",
       "      <th>novel</th>\n",
       "      <th>year</th>\n",
       "      <th>mean_aro_adj</th>\n",
       "      <th>mean_val_adj</th>\n",
       "      <th>mean_conf_dornseiff</th>\n",
       "      <th>mean_conf_annotation</th>\n",
       "    </tr>\n",
       "  </thead>\n",
       "  <tbody>\n",
       "    <tr>\n",
       "      <th>0</th>\n",
       "      <td>Boy-Ed_Ida_Empor</td>\n",
       "      <td>1892</td>\n",
       "      <td>-0.021688</td>\n",
       "      <td>-0.030646</td>\n",
       "      <td>0.008322</td>\n",
       "      <td>0.011659</td>\n",
       "    </tr>\n",
       "    <tr>\n",
       "      <th>1</th>\n",
       "      <td>Boy-Ed_Ida_Fanny_Foerster</td>\n",
       "      <td>1889</td>\n",
       "      <td>-0.021767</td>\n",
       "      <td>-0.029994</td>\n",
       "      <td>0.006790</td>\n",
       "      <td>0.011982</td>\n",
       "    </tr>\n",
       "    <tr>\n",
       "      <th>2</th>\n",
       "      <td>Dahn_Felix_Attila</td>\n",
       "      <td>1888</td>\n",
       "      <td>-0.022139</td>\n",
       "      <td>-0.042334</td>\n",
       "      <td>0.017154</td>\n",
       "      <td>0.017710</td>\n",
       "    </tr>\n",
       "    <tr>\n",
       "      <th>3</th>\n",
       "      <td>Dahn_Felix_Bissula</td>\n",
       "      <td>1884</td>\n",
       "      <td>-0.021859</td>\n",
       "      <td>-0.041443</td>\n",
       "      <td>0.017669</td>\n",
       "      <td>0.017573</td>\n",
       "    </tr>\n",
       "    <tr>\n",
       "      <th>4</th>\n",
       "      <td>Dahn_Felix_Ebroin</td>\n",
       "      <td>1897</td>\n",
       "      <td>-0.022618</td>\n",
       "      <td>-0.039548</td>\n",
       "      <td>0.016681</td>\n",
       "      <td>0.015258</td>\n",
       "    </tr>\n",
       "  </tbody>\n",
       "</table>\n",
       "</div>"
      ],
      "text/plain": [
       "                       novel  year  mean_aro_adj  mean_val_adj  \\\n",
       "0           Boy-Ed_Ida_Empor  1892     -0.021688     -0.030646   \n",
       "1  Boy-Ed_Ida_Fanny_Foerster  1889     -0.021767     -0.029994   \n",
       "2          Dahn_Felix_Attila  1888     -0.022139     -0.042334   \n",
       "3         Dahn_Felix_Bissula  1884     -0.021859     -0.041443   \n",
       "4          Dahn_Felix_Ebroin  1897     -0.022618     -0.039548   \n",
       "\n",
       "   mean_conf_dornseiff  mean_conf_annotation  \n",
       "0             0.008322              0.011659  \n",
       "1             0.006790              0.011982  \n",
       "2             0.017154              0.017710  \n",
       "3             0.017669              0.017573  \n",
       "4             0.016681              0.015258  "
      ]
     },
     "execution_count": 32,
     "metadata": {},
     "output_type": "execute_result"
    }
   ],
   "source": [
    "df_novels_ranked_Realismus_Naturalismus.head()"
   ]
  },
  {
   "cell_type": "code",
   "execution_count": null,
   "id": "aa41ac6f",
   "metadata": {},
   "outputs": [],
   "source": []
  },
  {
   "cell_type": "code",
   "execution_count": 33,
   "id": "8f8a4406",
   "metadata": {},
   "outputs": [],
   "source": [
    "# save\n",
    "\n",
    "df_novels_ranked_Romantik_core.to_csv('../Analyseergebnisse/csv/230710_df_novels_Romantik_core_average_values.csv', encoding='utf-8-sig') "
   ]
  },
  {
   "cell_type": "code",
   "execution_count": 35,
   "id": "cf602e16",
   "metadata": {},
   "outputs": [],
   "source": [
    "df_novels_ranked_Realismus_Naturalismus.to_csv('../Analyseergebnisse/csv/230710_df_novels_Realismus_Naturalismus_average_values.csv', encoding='utf-8-sig') "
   ]
  },
  {
   "cell_type": "code",
   "execution_count": null,
   "id": "e8b65ca7",
   "metadata": {},
   "outputs": [],
   "source": []
  }
 ],
 "metadata": {
  "kernelspec": {
   "display_name": "Python 3 (ipykernel)",
   "language": "python",
   "name": "python3"
  },
  "language_info": {
   "codemirror_mode": {
    "name": "ipython",
    "version": 3
   },
   "file_extension": ".py",
   "mimetype": "text/x-python",
   "name": "python",
   "nbconvert_exporter": "python",
   "pygments_lexer": "ipython3",
   "version": "3.10.9"
  }
 },
 "nbformat": 4,
 "nbformat_minor": 5
}
