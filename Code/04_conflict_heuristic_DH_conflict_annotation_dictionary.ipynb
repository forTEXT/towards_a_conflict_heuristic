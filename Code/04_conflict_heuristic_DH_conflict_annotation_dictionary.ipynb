{
 "cells": [
  {
   "cell_type": "markdown",
   "id": "1d55737a",
   "metadata": {},
   "source": [
    "# Towards a Conflict Heuristic (DH 2023)\n",
    "\n",
    "## 04. Conflict Annotation Dictionary\n",
    "\n",
    "Last updated: 26.01.2023\n",
    "\n",
    "julian.haeussler[at]tu-darmstadt.de"
   ]
  },
  {
   "cell_type": "code",
   "execution_count": 1,
   "id": "b5b0301e",
   "metadata": {},
   "outputs": [],
   "source": [
    "# imports\n",
    "\n",
    "import numpy as np\n",
    "import pandas as pd\n",
    "import pickle"
   ]
  },
  {
   "cell_type": "code",
   "execution_count": null,
   "id": "e24ce2b5",
   "metadata": {},
   "outputs": [],
   "source": []
  },
  {
   "cell_type": "code",
   "execution_count": 2,
   "id": "e5c4bcdd",
   "metadata": {},
   "outputs": [],
   "source": [
    "# paths\n",
    "\n",
    "path_annotations = r\"C:\\Users\\Julian\\HESSENBOX-DA\\Projekte\\Konflikte\\Daten\\Annotation\\data_prepro\"\n",
    "\n",
    "path_data = r'C:\\Users\\Public\\Data\\conflict_heuristics\\pickled'\n",
    "\n",
    "path_results = r'C:\\Users\\Public\\Data\\conflict_heuristics\\csv'\n",
    "\n",
    "path_results_pkl = r'C:\\Users\\Public\\Data\\conflict_heuristics\\pickled'"
   ]
  },
  {
   "cell_type": "markdown",
   "id": "bf5055af",
   "metadata": {},
   "source": [
    "#### create conflict dictionary"
   ]
  },
  {
   "cell_type": "code",
   "execution_count": 3,
   "id": "74882640",
   "metadata": {},
   "outputs": [],
   "source": [
    "# read in dataframes of annotatated texts\n",
    "\n",
    "df_eckbert = pd.read_csv(path_annotations + '\\\\eckbert_all_cleaned.csv')"
   ]
  },
  {
   "cell_type": "code",
   "execution_count": 4,
   "id": "973f332a",
   "metadata": {
    "scrolled": true
   },
   "outputs": [
    {
     "data": {
      "text/html": [
       "<div>\n",
       "<style scoped>\n",
       "    .dataframe tbody tr th:only-of-type {\n",
       "        vertical-align: middle;\n",
       "    }\n",
       "\n",
       "    .dataframe tbody tr th {\n",
       "        vertical-align: top;\n",
       "    }\n",
       "\n",
       "    .dataframe thead th {\n",
       "        text-align: right;\n",
       "    }\n",
       "</style>\n",
       "<table border=\"1\" class=\"dataframe\">\n",
       "  <thead>\n",
       "    <tr style=\"text-align: right;\">\n",
       "      <th></th>\n",
       "      <th>objekt</th>\n",
       "      <th>alina</th>\n",
       "      <th>janis</th>\n",
       "      <th>kristina</th>\n",
       "      <th>mari</th>\n",
       "      <th>mareike</th>\n",
       "      <th>inna</th>\n",
       "    </tr>\n",
       "  </thead>\n",
       "  <tbody>\n",
       "    <tr>\n",
       "      <th>0</th>\n",
       "      <td>ludwig</td>\n",
       "      <td>o</td>\n",
       "      <td>o</td>\n",
       "      <td>o</td>\n",
       "      <td>o</td>\n",
       "      <td>o</td>\n",
       "      <td>o</td>\n",
       "    </tr>\n",
       "    <tr>\n",
       "      <th>1</th>\n",
       "      <td>tieck</td>\n",
       "      <td>o</td>\n",
       "      <td>o</td>\n",
       "      <td>o</td>\n",
       "      <td>o</td>\n",
       "      <td>o</td>\n",
       "      <td>o</td>\n",
       "    </tr>\n",
       "    <tr>\n",
       "      <th>2</th>\n",
       "      <td>die</td>\n",
       "      <td>o</td>\n",
       "      <td>o</td>\n",
       "      <td>o</td>\n",
       "      <td>o</td>\n",
       "      <td>o</td>\n",
       "      <td>o</td>\n",
       "    </tr>\n",
       "    <tr>\n",
       "      <th>3</th>\n",
       "      <td>märchen</td>\n",
       "      <td>o</td>\n",
       "      <td>o</td>\n",
       "      <td>o</td>\n",
       "      <td>o</td>\n",
       "      <td>o</td>\n",
       "      <td>o</td>\n",
       "    </tr>\n",
       "    <tr>\n",
       "      <th>4</th>\n",
       "      <td>aus</td>\n",
       "      <td>o</td>\n",
       "      <td>o</td>\n",
       "      <td>o</td>\n",
       "      <td>o</td>\n",
       "      <td>o</td>\n",
       "      <td>o</td>\n",
       "    </tr>\n",
       "    <tr>\n",
       "      <th>5</th>\n",
       "      <td>dem</td>\n",
       "      <td>o</td>\n",
       "      <td>o</td>\n",
       "      <td>o</td>\n",
       "      <td>o</td>\n",
       "      <td>o</td>\n",
       "      <td>o</td>\n",
       "    </tr>\n",
       "    <tr>\n",
       "      <th>6</th>\n",
       "      <td>phantasus</td>\n",
       "      <td>o</td>\n",
       "      <td>o</td>\n",
       "      <td>o</td>\n",
       "      <td>o</td>\n",
       "      <td>o</td>\n",
       "      <td>o</td>\n",
       "    </tr>\n",
       "    <tr>\n",
       "      <th>7</th>\n",
       "      <td>der</td>\n",
       "      <td>o</td>\n",
       "      <td>o</td>\n",
       "      <td>o</td>\n",
       "      <td>o</td>\n",
       "      <td>o</td>\n",
       "      <td>o</td>\n",
       "    </tr>\n",
       "    <tr>\n",
       "      <th>8</th>\n",
       "      <td>blonde</td>\n",
       "      <td>o</td>\n",
       "      <td>o</td>\n",
       "      <td>o</td>\n",
       "      <td>o</td>\n",
       "      <td>o</td>\n",
       "      <td>o</td>\n",
       "    </tr>\n",
       "    <tr>\n",
       "      <th>9</th>\n",
       "      <td>eckbert</td>\n",
       "      <td>o</td>\n",
       "      <td>o</td>\n",
       "      <td>o</td>\n",
       "      <td>o</td>\n",
       "      <td>o</td>\n",
       "      <td>o</td>\n",
       "    </tr>\n",
       "    <tr>\n",
       "      <th>10</th>\n",
       "      <td>in</td>\n",
       "      <td>o</td>\n",
       "      <td>o</td>\n",
       "      <td>o</td>\n",
       "      <td>o</td>\n",
       "      <td>o</td>\n",
       "      <td>o</td>\n",
       "    </tr>\n",
       "    <tr>\n",
       "      <th>11</th>\n",
       "      <td>einer</td>\n",
       "      <td>o</td>\n",
       "      <td>o</td>\n",
       "      <td>o</td>\n",
       "      <td>o</td>\n",
       "      <td>o</td>\n",
       "      <td>o</td>\n",
       "    </tr>\n",
       "    <tr>\n",
       "      <th>12</th>\n",
       "      <td>gegend</td>\n",
       "      <td>o</td>\n",
       "      <td>o</td>\n",
       "      <td>o</td>\n",
       "      <td>o</td>\n",
       "      <td>o</td>\n",
       "      <td>o</td>\n",
       "    </tr>\n",
       "    <tr>\n",
       "      <th>13</th>\n",
       "      <td>des</td>\n",
       "      <td>o</td>\n",
       "      <td>o</td>\n",
       "      <td>o</td>\n",
       "      <td>o</td>\n",
       "      <td>o</td>\n",
       "      <td>o</td>\n",
       "    </tr>\n",
       "    <tr>\n",
       "      <th>14</th>\n",
       "      <td>harzes</td>\n",
       "      <td>o</td>\n",
       "      <td>o</td>\n",
       "      <td>o</td>\n",
       "      <td>o</td>\n",
       "      <td>o</td>\n",
       "      <td>o</td>\n",
       "    </tr>\n",
       "    <tr>\n",
       "      <th>15</th>\n",
       "      <td>wohnte</td>\n",
       "      <td>o</td>\n",
       "      <td>o</td>\n",
       "      <td>o</td>\n",
       "      <td>o</td>\n",
       "      <td>o</td>\n",
       "      <td>o</td>\n",
       "    </tr>\n",
       "    <tr>\n",
       "      <th>16</th>\n",
       "      <td>ein</td>\n",
       "      <td>o</td>\n",
       "      <td>o</td>\n",
       "      <td>o</td>\n",
       "      <td>o</td>\n",
       "      <td>o</td>\n",
       "      <td>o</td>\n",
       "    </tr>\n",
       "    <tr>\n",
       "      <th>17</th>\n",
       "      <td>ritter</td>\n",
       "      <td>o</td>\n",
       "      <td>o</td>\n",
       "      <td>o</td>\n",
       "      <td>o</td>\n",
       "      <td>o</td>\n",
       "      <td>konflikthinweis</td>\n",
       "    </tr>\n",
       "  </tbody>\n",
       "</table>\n",
       "</div>"
      ],
      "text/plain": [
       "       objekt alina janis kristina mari mareike             inna\n",
       "0      ludwig     o     o        o    o       o                o\n",
       "1       tieck     o     o        o    o       o                o\n",
       "2         die     o     o        o    o       o                o\n",
       "3     märchen     o     o        o    o       o                o\n",
       "4         aus     o     o        o    o       o                o\n",
       "5         dem     o     o        o    o       o                o\n",
       "6   phantasus     o     o        o    o       o                o\n",
       "7         der     o     o        o    o       o                o\n",
       "8      blonde     o     o        o    o       o                o\n",
       "9     eckbert     o     o        o    o       o                o\n",
       "10         in     o     o        o    o       o                o\n",
       "11      einer     o     o        o    o       o                o\n",
       "12     gegend     o     o        o    o       o                o\n",
       "13        des     o     o        o    o       o                o\n",
       "14     harzes     o     o        o    o       o                o\n",
       "15     wohnte     o     o        o    o       o                o\n",
       "16        ein     o     o        o    o       o                o\n",
       "17     ritter     o     o        o    o       o  konflikthinweis"
      ]
     },
     "execution_count": 4,
     "metadata": {},
     "output_type": "execute_result"
    }
   ],
   "source": [
    "df_eckbert.head(18)"
   ]
  },
  {
   "cell_type": "code",
   "execution_count": 5,
   "id": "25b04d36",
   "metadata": {},
   "outputs": [],
   "source": [
    "df_judenbuche = pd.read_csv(path_annotations + '\\\\judenbuche_all_cleaned.csv')\n",
    "\n",
    "df_krambambuli = pd.read_csv(path_annotations + '\\\\karambuli_all_cleaned.csv')\n",
    "\n",
    "df_verwandlung = pd.read_csv(path_annotations + '\\\\verwandlung_all_cleaned.csv')"
   ]
  },
  {
   "cell_type": "code",
   "execution_count": null,
   "id": "3b869da9",
   "metadata": {},
   "outputs": [],
   "source": []
  },
  {
   "cell_type": "code",
   "execution_count": 6,
   "id": "e7231bf6",
   "metadata": {},
   "outputs": [],
   "source": [
    "# create token list over all novels\n",
    "\n",
    "lst_tokens = df_eckbert['objekt'].to_list()\n",
    "\n",
    "lst_tokens.extend(df_judenbuche['objekt'].to_list())\n",
    "\n",
    "lst_tokens.extend(df_krambambuli['objekt'].to_list())\n",
    "\n",
    "lst_tokens.extend(df_verwandlung['objekt_x'].to_list())"
   ]
  },
  {
   "cell_type": "code",
   "execution_count": 7,
   "id": "9765af01",
   "metadata": {},
   "outputs": [
    {
     "data": {
      "text/plain": [
       "['ludwig',\n",
       " 'tieck',\n",
       " 'die',\n",
       " 'märchen',\n",
       " 'aus',\n",
       " 'dem',\n",
       " 'phantasus',\n",
       " 'der',\n",
       " 'blonde',\n",
       " 'eckbert']"
      ]
     },
     "execution_count": 7,
     "metadata": {},
     "output_type": "execute_result"
    }
   ],
   "source": [
    "lst_tokens[:10]"
   ]
  },
  {
   "cell_type": "code",
   "execution_count": 8,
   "id": "b4748bc0",
   "metadata": {},
   "outputs": [
    {
     "data": {
      "text/plain": [
       "54543"
      ]
     },
     "execution_count": 8,
     "metadata": {},
     "output_type": "execute_result"
    }
   ],
   "source": [
    "len(lst_tokens)"
   ]
  },
  {
   "cell_type": "code",
   "execution_count": 9,
   "id": "32133030",
   "metadata": {},
   "outputs": [],
   "source": [
    "# create type list over all novels\n",
    "\n",
    "lst_types = list(set(lst_tokens))"
   ]
  },
  {
   "cell_type": "code",
   "execution_count": 10,
   "id": "6a0965dc",
   "metadata": {},
   "outputs": [
    {
     "data": {
      "text/plain": [
       "[nan,\n",
       " 'Geräuschen',\n",
       " 'Vormittags',\n",
       " 'schmetterte',\n",
       " 'verschlungen',\n",
       " 'blitz',\n",
       " 'stückchen',\n",
       " 'richtige',\n",
       " 'Pelzboa',\n",
       " 'Angst']"
      ]
     },
     "execution_count": 10,
     "metadata": {},
     "output_type": "execute_result"
    }
   ],
   "source": [
    "lst_types[:10]"
   ]
  },
  {
   "cell_type": "code",
   "execution_count": 11,
   "id": "0a630f57",
   "metadata": {},
   "outputs": [],
   "source": [
    "lst_types = lst_types[1:] #remove nan"
   ]
  },
  {
   "cell_type": "code",
   "execution_count": 12,
   "id": "6bb25f51",
   "metadata": {},
   "outputs": [
    {
     "data": {
      "text/plain": [
       "8507"
      ]
     },
     "execution_count": 12,
     "metadata": {},
     "output_type": "execute_result"
    }
   ],
   "source": [
    "len(lst_types)"
   ]
  },
  {
   "cell_type": "code",
   "execution_count": 13,
   "id": "d59f048d",
   "metadata": {},
   "outputs": [],
   "source": [
    "# lowercase type list\n",
    "\n",
    "lst_types = [word.lower() for word in lst_types]"
   ]
  },
  {
   "cell_type": "code",
   "execution_count": 14,
   "id": "e8ce669e",
   "metadata": {},
   "outputs": [],
   "source": [
    "lst_types = list(set(lst_types))"
   ]
  },
  {
   "cell_type": "code",
   "execution_count": 15,
   "id": "9465591f",
   "metadata": {},
   "outputs": [
    {
     "data": {
      "text/plain": [
       "7861"
      ]
     },
     "execution_count": 15,
     "metadata": {},
     "output_type": "execute_result"
    }
   ],
   "source": [
    "len(lst_types)"
   ]
  },
  {
   "cell_type": "code",
   "execution_count": 16,
   "id": "e9848f05",
   "metadata": {},
   "outputs": [
    {
     "data": {
      "text/plain": [
       "['schmetterte',\n",
       " 'verschlungen',\n",
       " 'blitz',\n",
       " 'stückchen',\n",
       " 'richtige',\n",
       " 'ausrede',\n",
       " 'förster',\n",
       " 'fuße',\n",
       " 'mann',\n",
       " 'leuchtenden']"
      ]
     },
     "execution_count": 16,
     "metadata": {},
     "output_type": "execute_result"
    }
   ],
   "source": [
    "lst_types[:10]"
   ]
  },
  {
   "cell_type": "code",
   "execution_count": null,
   "id": "b5496267",
   "metadata": {},
   "outputs": [],
   "source": []
  },
  {
   "cell_type": "code",
   "execution_count": 17,
   "id": "6e79892e",
   "metadata": {},
   "outputs": [],
   "source": [
    "# select tags for dictionary\n",
    "\n",
    "tags = [\"emotionsbasierter_konfliktindikator\", \"zustandsbasierter_konfliktindikator\",\n",
    "        \"aktionsbasierter_konfliktindikator\", \"konflikthinweis\", \"indikator_konfliktlösung\",\n",
    "        \"indikator_konfliktintensität\"]"
   ]
  },
  {
   "cell_type": "code",
   "execution_count": null,
   "id": "2bbd2593",
   "metadata": {},
   "outputs": [],
   "source": []
  },
  {
   "cell_type": "code",
   "execution_count": 18,
   "id": "17ebf3a4",
   "metadata": {},
   "outputs": [],
   "source": [
    "# create dictionary\n",
    "\n",
    "conflict_dict = {word:{tag:[] for tag in tags} for word in lst_types}"
   ]
  },
  {
   "cell_type": "code",
   "execution_count": 19,
   "id": "dce1778f",
   "metadata": {},
   "outputs": [
    {
     "data": {
      "text/plain": [
       "{'emotionsbasierter_konfliktindikator': [],\n",
       " 'zustandsbasierter_konfliktindikator': [],\n",
       " 'aktionsbasierter_konfliktindikator': [],\n",
       " 'konflikthinweis': [],\n",
       " 'indikator_konfliktlösung': [],\n",
       " 'indikator_konfliktintensität': []}"
      ]
     },
     "execution_count": 19,
     "metadata": {},
     "output_type": "execute_result"
    }
   ],
   "source": [
    "conflict_dict['ausgerenktem']"
   ]
  },
  {
   "cell_type": "code",
   "execution_count": null,
   "id": "05f84bc7",
   "metadata": {},
   "outputs": [],
   "source": []
  },
  {
   "cell_type": "code",
   "execution_count": 20,
   "id": "c3f90445",
   "metadata": {},
   "outputs": [],
   "source": [
    "# iterate over all four novels ad add rel freq of each tag as list to dictionary\n",
    "\n",
    "for index,row in df_eckbert.iterrows():\n",
    "    l = df_eckbert.iloc[index].tolist() #token+annotations as list\n",
    "    w = l[0].lower() #first item in list is token\n",
    "    for tag in tags:\n",
    "        v1 = l.count(tag) # count how many times a tag is in the list\n",
    "        v2 = v1/6 # divided by no. of annotators\n",
    "        conflict_dict[w][tag].append(v2) #add average frequency of tag to conflict dictionary"
   ]
  },
  {
   "cell_type": "code",
   "execution_count": 21,
   "id": "4e8d0562",
   "metadata": {
    "scrolled": true
   },
   "outputs": [
    {
     "data": {
      "text/plain": [
       "{'emotionsbasierter_konfliktindikator': [0.0,\n",
       "  0.0,\n",
       "  0.0,\n",
       "  0.0,\n",
       "  0.0,\n",
       "  0.0,\n",
       "  0.0,\n",
       "  0.0],\n",
       " 'zustandsbasierter_konfliktindikator': [0.0,\n",
       "  0.0,\n",
       "  0.0,\n",
       "  0.0,\n",
       "  0.0,\n",
       "  0.0,\n",
       "  0.0,\n",
       "  0.0],\n",
       " 'aktionsbasierter_konfliktindikator': [0.0,\n",
       "  0.0,\n",
       "  0.0,\n",
       "  0.0,\n",
       "  0.0,\n",
       "  0.0,\n",
       "  0.0,\n",
       "  0.0],\n",
       " 'konflikthinweis': [0.16666666666666666,\n",
       "  0.16666666666666666,\n",
       "  0.16666666666666666,\n",
       "  0.16666666666666666,\n",
       "  0.0,\n",
       "  0.0,\n",
       "  0.16666666666666666,\n",
       "  0.16666666666666666],\n",
       " 'indikator_konfliktlösung': [0.0, 0.0, 0.0, 0.0, 0.0, 0.0, 0.0, 0.0],\n",
       " 'indikator_konfliktintensität': [0.0, 0.0, 0.0, 0.0, 0.0, 0.0, 0.0, 0.0]}"
      ]
     },
     "execution_count": 21,
     "metadata": {},
     "output_type": "execute_result"
    }
   ],
   "source": [
    "conflict_dict['ritter']"
   ]
  },
  {
   "cell_type": "code",
   "execution_count": 22,
   "id": "eb7b7260",
   "metadata": {},
   "outputs": [],
   "source": [
    "for index,row in df_judenbuche.iterrows():\n",
    "    l = df_judenbuche.iloc[index].tolist()\n",
    "    w = l[0].lower()\n",
    "    for tag in tags:\n",
    "        v1 = l.count(tag)\n",
    "        v2 = v1/6\n",
    "        conflict_dict[w][tag].append(v2)"
   ]
  },
  {
   "cell_type": "code",
   "execution_count": 23,
   "id": "8cada36c",
   "metadata": {},
   "outputs": [],
   "source": [
    "for index,row in df_krambambuli.iterrows():\n",
    "    l = df_krambambuli.iloc[index].tolist()\n",
    "    w = l[0].lower()\n",
    "    for tag in tags:\n",
    "        v1 = l.count(tag)\n",
    "        v2 = v1/6\n",
    "        conflict_dict[w][tag].append(v2)"
   ]
  },
  {
   "cell_type": "code",
   "execution_count": 24,
   "id": "96134c45",
   "metadata": {},
   "outputs": [],
   "source": [
    "for index,row in df_verwandlung.iterrows():\n",
    "    l = df_verwandlung.iloc[index].tolist()\n",
    "    if isinstance(l[0],float) == False:\n",
    "        w = l[0].lower()\n",
    "        for tag in tags:\n",
    "            v1 = l.count(tag)\n",
    "            v2 = v1/5 #less anotators for 'Verwandlung'\n",
    "            conflict_dict[w][tag].append(v2)"
   ]
  },
  {
   "cell_type": "code",
   "execution_count": 25,
   "id": "8c3d8870",
   "metadata": {},
   "outputs": [
    {
     "data": {
      "text/plain": [
       "{'emotionsbasierter_konfliktindikator': [0.0],\n",
       " 'zustandsbasierter_konfliktindikator': [1.0],\n",
       " 'aktionsbasierter_konfliktindikator': [0.0],\n",
       " 'konflikthinweis': [0.0],\n",
       " 'indikator_konfliktlösung': [0.0],\n",
       " 'indikator_konfliktintensität': [0.0]}"
      ]
     },
     "execution_count": 25,
     "metadata": {},
     "output_type": "execute_result"
    }
   ],
   "source": [
    "conflict_dict['ausgerenktem']"
   ]
  },
  {
   "cell_type": "code",
   "execution_count": null,
   "id": "80613f31",
   "metadata": {},
   "outputs": [],
   "source": []
  },
  {
   "cell_type": "code",
   "execution_count": 26,
   "id": "a6b8663a",
   "metadata": {},
   "outputs": [],
   "source": [
    "# compute average value for each tag for each word\n",
    "\n",
    "conflict_dict_final = {word:{tag:0 for tag in tags} for word in lst_types}"
   ]
  },
  {
   "cell_type": "code",
   "execution_count": null,
   "id": "6d5d4c36",
   "metadata": {},
   "outputs": [],
   "source": []
  },
  {
   "cell_type": "code",
   "execution_count": 27,
   "id": "d5fb35ce",
   "metadata": {},
   "outputs": [],
   "source": [
    "for word in lst_types:\n",
    "    for tag in tags:\n",
    "        l1 = conflict_dict[word][tag]\n",
    "        if len(l1) > 0:\n",
    "            v = sum(l1)/len(l1)\n",
    "            conflict_dict_final[word][tag]=v            "
   ]
  },
  {
   "cell_type": "code",
   "execution_count": 28,
   "id": "f7e33e04",
   "metadata": {},
   "outputs": [
    {
     "data": {
      "text/plain": [
       "{'emotionsbasierter_konfliktindikator': 0.0,\n",
       " 'zustandsbasierter_konfliktindikator': 0.0,\n",
       " 'aktionsbasierter_konfliktindikator': 0.0,\n",
       " 'konflikthinweis': 0.12499999999999999,\n",
       " 'indikator_konfliktlösung': 0.0,\n",
       " 'indikator_konfliktintensität': 0.0}"
      ]
     },
     "execution_count": 28,
     "metadata": {},
     "output_type": "execute_result"
    }
   ],
   "source": [
    "conflict_dict_final[\"ritter\"]"
   ]
  },
  {
   "cell_type": "code",
   "execution_count": null,
   "id": "5027c834",
   "metadata": {},
   "outputs": [],
   "source": []
  },
  {
   "cell_type": "code",
   "execution_count": 29,
   "id": "eef92944",
   "metadata": {},
   "outputs": [],
   "source": [
    "# turn into df\n",
    "\n",
    "df_conflict_final = pd.DataFrame.from_dict(conflict_dict_final,orient='index')"
   ]
  },
  {
   "cell_type": "code",
   "execution_count": 30,
   "id": "c62e0f67",
   "metadata": {},
   "outputs": [
    {
     "data": {
      "text/html": [
       "<div>\n",
       "<style scoped>\n",
       "    .dataframe tbody tr th:only-of-type {\n",
       "        vertical-align: middle;\n",
       "    }\n",
       "\n",
       "    .dataframe tbody tr th {\n",
       "        vertical-align: top;\n",
       "    }\n",
       "\n",
       "    .dataframe thead th {\n",
       "        text-align: right;\n",
       "    }\n",
       "</style>\n",
       "<table border=\"1\" class=\"dataframe\">\n",
       "  <thead>\n",
       "    <tr style=\"text-align: right;\">\n",
       "      <th></th>\n",
       "      <th>emotionsbasierter_konfliktindikator</th>\n",
       "      <th>zustandsbasierter_konfliktindikator</th>\n",
       "      <th>aktionsbasierter_konfliktindikator</th>\n",
       "      <th>konflikthinweis</th>\n",
       "      <th>indikator_konfliktlösung</th>\n",
       "      <th>indikator_konfliktintensität</th>\n",
       "    </tr>\n",
       "  </thead>\n",
       "  <tbody>\n",
       "    <tr>\n",
       "      <th>schmetterte</th>\n",
       "      <td>0.0</td>\n",
       "      <td>0.0</td>\n",
       "      <td>0.0</td>\n",
       "      <td>0.0</td>\n",
       "      <td>0.0</td>\n",
       "      <td>0.0</td>\n",
       "    </tr>\n",
       "    <tr>\n",
       "      <th>verschlungen</th>\n",
       "      <td>0.0</td>\n",
       "      <td>0.0</td>\n",
       "      <td>0.0</td>\n",
       "      <td>0.0</td>\n",
       "      <td>0.0</td>\n",
       "      <td>0.0</td>\n",
       "    </tr>\n",
       "    <tr>\n",
       "      <th>blitz</th>\n",
       "      <td>0.0</td>\n",
       "      <td>0.0</td>\n",
       "      <td>0.0</td>\n",
       "      <td>0.5</td>\n",
       "      <td>0.0</td>\n",
       "      <td>0.0</td>\n",
       "    </tr>\n",
       "    <tr>\n",
       "      <th>stückchen</th>\n",
       "      <td>0.0</td>\n",
       "      <td>0.0</td>\n",
       "      <td>0.0</td>\n",
       "      <td>0.0</td>\n",
       "      <td>0.0</td>\n",
       "      <td>0.0</td>\n",
       "    </tr>\n",
       "    <tr>\n",
       "      <th>richtige</th>\n",
       "      <td>0.0</td>\n",
       "      <td>0.0</td>\n",
       "      <td>0.0</td>\n",
       "      <td>0.0</td>\n",
       "      <td>0.0</td>\n",
       "      <td>0.0</td>\n",
       "    </tr>\n",
       "  </tbody>\n",
       "</table>\n",
       "</div>"
      ],
      "text/plain": [
       "              emotionsbasierter_konfliktindikator  \\\n",
       "schmetterte                                   0.0   \n",
       "verschlungen                                  0.0   \n",
       "blitz                                         0.0   \n",
       "stückchen                                     0.0   \n",
       "richtige                                      0.0   \n",
       "\n",
       "              zustandsbasierter_konfliktindikator  \\\n",
       "schmetterte                                   0.0   \n",
       "verschlungen                                  0.0   \n",
       "blitz                                         0.0   \n",
       "stückchen                                     0.0   \n",
       "richtige                                      0.0   \n",
       "\n",
       "              aktionsbasierter_konfliktindikator  konflikthinweis  \\\n",
       "schmetterte                                  0.0              0.0   \n",
       "verschlungen                                 0.0              0.0   \n",
       "blitz                                        0.0              0.5   \n",
       "stückchen                                    0.0              0.0   \n",
       "richtige                                     0.0              0.0   \n",
       "\n",
       "              indikator_konfliktlösung  indikator_konfliktintensität  \n",
       "schmetterte                        0.0                           0.0  \n",
       "verschlungen                       0.0                           0.0  \n",
       "blitz                              0.0                           0.0  \n",
       "stückchen                          0.0                           0.0  \n",
       "richtige                           0.0                           0.0  "
      ]
     },
     "execution_count": 30,
     "metadata": {},
     "output_type": "execute_result"
    }
   ],
   "source": [
    "df_conflict_final.head()"
   ]
  },
  {
   "cell_type": "code",
   "execution_count": null,
   "id": "993804f4",
   "metadata": {},
   "outputs": [],
   "source": []
  },
  {
   "cell_type": "code",
   "execution_count": 31,
   "id": "b2ff30d8",
   "metadata": {},
   "outputs": [
    {
     "data": {
      "text/plain": [
       "5789"
      ]
     },
     "execution_count": 31,
     "metadata": {},
     "output_type": "execute_result"
    }
   ],
   "source": [
    "lst_types.index(\"ritter\")"
   ]
  },
  {
   "cell_type": "code",
   "execution_count": 32,
   "id": "85ddbae7",
   "metadata": {},
   "outputs": [
    {
     "data": {
      "text/html": [
       "<div>\n",
       "<style scoped>\n",
       "    .dataframe tbody tr th:only-of-type {\n",
       "        vertical-align: middle;\n",
       "    }\n",
       "\n",
       "    .dataframe tbody tr th {\n",
       "        vertical-align: top;\n",
       "    }\n",
       "\n",
       "    .dataframe thead th {\n",
       "        text-align: right;\n",
       "    }\n",
       "</style>\n",
       "<table border=\"1\" class=\"dataframe\">\n",
       "  <thead>\n",
       "    <tr style=\"text-align: right;\">\n",
       "      <th></th>\n",
       "      <th>emotionsbasierter_konfliktindikator</th>\n",
       "      <th>zustandsbasierter_konfliktindikator</th>\n",
       "      <th>aktionsbasierter_konfliktindikator</th>\n",
       "      <th>konflikthinweis</th>\n",
       "      <th>indikator_konfliktlösung</th>\n",
       "      <th>indikator_konfliktintensität</th>\n",
       "    </tr>\n",
       "  </thead>\n",
       "  <tbody>\n",
       "    <tr>\n",
       "      <th>aus</th>\n",
       "      <td>0.002132</td>\n",
       "      <td>0.001938</td>\n",
       "      <td>0.016085</td>\n",
       "      <td>0.001938</td>\n",
       "      <td>0.015891</td>\n",
       "      <td>0.002907</td>\n",
       "    </tr>\n",
       "  </tbody>\n",
       "</table>\n",
       "</div>"
      ],
      "text/plain": [
       "     emotionsbasierter_konfliktindikator  zustandsbasierter_konfliktindikator  \\\n",
       "aus                             0.002132                             0.001938   \n",
       "\n",
       "     aktionsbasierter_konfliktindikator  konflikthinweis  \\\n",
       "aus                            0.016085         0.001938   \n",
       "\n",
       "     indikator_konfliktlösung  indikator_konfliktintensität  \n",
       "aus                  0.015891                      0.002907  "
      ]
     },
     "execution_count": 32,
     "metadata": {},
     "output_type": "execute_result"
    }
   ],
   "source": [
    "df_conflict_final.iloc[[3120]]"
   ]
  },
  {
   "cell_type": "code",
   "execution_count": null,
   "id": "dbe91960",
   "metadata": {},
   "outputs": [],
   "source": []
  },
  {
   "cell_type": "code",
   "execution_count": 33,
   "id": "542d43aa",
   "metadata": {},
   "outputs": [],
   "source": [
    "# save as csv\n",
    "\n",
    "df_conflict_final.to_csv(path_results+'\\\\230126_df_conflict_final.csv', encoding='utf-8-sig') "
   ]
  },
  {
   "cell_type": "code",
   "execution_count": null,
   "id": "ecbd52c7",
   "metadata": {},
   "outputs": [],
   "source": []
  },
  {
   "cell_type": "markdown",
   "id": "9401124c",
   "metadata": {},
   "source": [
    "#### get label words"
   ]
  },
  {
   "cell_type": "code",
   "execution_count": 34,
   "id": "61f3ddd0",
   "metadata": {},
   "outputs": [],
   "source": [
    "# copy df\n",
    "\n",
    "df_conflict_labels = df_conflict_final.copy()"
   ]
  },
  {
   "cell_type": "code",
   "execution_count": 35,
   "id": "ab431b2d",
   "metadata": {},
   "outputs": [
    {
     "data": {
      "text/html": [
       "<div>\n",
       "<style scoped>\n",
       "    .dataframe tbody tr th:only-of-type {\n",
       "        vertical-align: middle;\n",
       "    }\n",
       "\n",
       "    .dataframe tbody tr th {\n",
       "        vertical-align: top;\n",
       "    }\n",
       "\n",
       "    .dataframe thead th {\n",
       "        text-align: right;\n",
       "    }\n",
       "</style>\n",
       "<table border=\"1\" class=\"dataframe\">\n",
       "  <thead>\n",
       "    <tr style=\"text-align: right;\">\n",
       "      <th></th>\n",
       "      <th>emotionsbasierter_konfliktindikator</th>\n",
       "      <th>zustandsbasierter_konfliktindikator</th>\n",
       "      <th>aktionsbasierter_konfliktindikator</th>\n",
       "      <th>konflikthinweis</th>\n",
       "      <th>indikator_konfliktlösung</th>\n",
       "      <th>indikator_konfliktintensität</th>\n",
       "    </tr>\n",
       "  </thead>\n",
       "  <tbody>\n",
       "    <tr>\n",
       "      <th>schmetterte</th>\n",
       "      <td>0.0</td>\n",
       "      <td>0.0</td>\n",
       "      <td>0.0</td>\n",
       "      <td>0.0</td>\n",
       "      <td>0.0</td>\n",
       "      <td>0.0</td>\n",
       "    </tr>\n",
       "    <tr>\n",
       "      <th>verschlungen</th>\n",
       "      <td>0.0</td>\n",
       "      <td>0.0</td>\n",
       "      <td>0.0</td>\n",
       "      <td>0.0</td>\n",
       "      <td>0.0</td>\n",
       "      <td>0.0</td>\n",
       "    </tr>\n",
       "    <tr>\n",
       "      <th>blitz</th>\n",
       "      <td>0.0</td>\n",
       "      <td>0.0</td>\n",
       "      <td>0.0</td>\n",
       "      <td>0.5</td>\n",
       "      <td>0.0</td>\n",
       "      <td>0.0</td>\n",
       "    </tr>\n",
       "    <tr>\n",
       "      <th>stückchen</th>\n",
       "      <td>0.0</td>\n",
       "      <td>0.0</td>\n",
       "      <td>0.0</td>\n",
       "      <td>0.0</td>\n",
       "      <td>0.0</td>\n",
       "      <td>0.0</td>\n",
       "    </tr>\n",
       "    <tr>\n",
       "      <th>richtige</th>\n",
       "      <td>0.0</td>\n",
       "      <td>0.0</td>\n",
       "      <td>0.0</td>\n",
       "      <td>0.0</td>\n",
       "      <td>0.0</td>\n",
       "      <td>0.0</td>\n",
       "    </tr>\n",
       "  </tbody>\n",
       "</table>\n",
       "</div>"
      ],
      "text/plain": [
       "              emotionsbasierter_konfliktindikator  \\\n",
       "schmetterte                                   0.0   \n",
       "verschlungen                                  0.0   \n",
       "blitz                                         0.0   \n",
       "stückchen                                     0.0   \n",
       "richtige                                      0.0   \n",
       "\n",
       "              zustandsbasierter_konfliktindikator  \\\n",
       "schmetterte                                   0.0   \n",
       "verschlungen                                  0.0   \n",
       "blitz                                         0.0   \n",
       "stückchen                                     0.0   \n",
       "richtige                                      0.0   \n",
       "\n",
       "              aktionsbasierter_konfliktindikator  konflikthinweis  \\\n",
       "schmetterte                                  0.0              0.0   \n",
       "verschlungen                                 0.0              0.0   \n",
       "blitz                                        0.0              0.5   \n",
       "stückchen                                    0.0              0.0   \n",
       "richtige                                     0.0              0.0   \n",
       "\n",
       "              indikator_konfliktlösung  indikator_konfliktintensität  \n",
       "schmetterte                        0.0                           0.0  \n",
       "verschlungen                       0.0                           0.0  \n",
       "blitz                              0.0                           0.0  \n",
       "stückchen                          0.0                           0.0  \n",
       "richtige                           0.0                           0.0  "
      ]
     },
     "execution_count": 35,
     "metadata": {},
     "output_type": "execute_result"
    }
   ],
   "source": [
    "df_conflict_labels.head()"
   ]
  },
  {
   "cell_type": "code",
   "execution_count": null,
   "id": "b26b11e8",
   "metadata": {},
   "outputs": [],
   "source": []
  },
  {
   "cell_type": "code",
   "execution_count": 36,
   "id": "8fd38358",
   "metadata": {},
   "outputs": [],
   "source": [
    "# add column average conflict\n",
    "\n",
    "df_conflict_labels['avrg_conflict'] = np.nan"
   ]
  },
  {
   "cell_type": "code",
   "execution_count": 37,
   "id": "97fc9c66",
   "metadata": {},
   "outputs": [
    {
     "data": {
      "text/html": [
       "<div>\n",
       "<style scoped>\n",
       "    .dataframe tbody tr th:only-of-type {\n",
       "        vertical-align: middle;\n",
       "    }\n",
       "\n",
       "    .dataframe tbody tr th {\n",
       "        vertical-align: top;\n",
       "    }\n",
       "\n",
       "    .dataframe thead th {\n",
       "        text-align: right;\n",
       "    }\n",
       "</style>\n",
       "<table border=\"1\" class=\"dataframe\">\n",
       "  <thead>\n",
       "    <tr style=\"text-align: right;\">\n",
       "      <th></th>\n",
       "      <th>emotionsbasierter_konfliktindikator</th>\n",
       "      <th>zustandsbasierter_konfliktindikator</th>\n",
       "      <th>aktionsbasierter_konfliktindikator</th>\n",
       "      <th>konflikthinweis</th>\n",
       "      <th>indikator_konfliktlösung</th>\n",
       "      <th>indikator_konfliktintensität</th>\n",
       "      <th>avrg_conflict</th>\n",
       "    </tr>\n",
       "  </thead>\n",
       "  <tbody>\n",
       "    <tr>\n",
       "      <th>schmetterte</th>\n",
       "      <td>0.0</td>\n",
       "      <td>0.0</td>\n",
       "      <td>0.0</td>\n",
       "      <td>0.0</td>\n",
       "      <td>0.0</td>\n",
       "      <td>0.0</td>\n",
       "      <td>NaN</td>\n",
       "    </tr>\n",
       "    <tr>\n",
       "      <th>verschlungen</th>\n",
       "      <td>0.0</td>\n",
       "      <td>0.0</td>\n",
       "      <td>0.0</td>\n",
       "      <td>0.0</td>\n",
       "      <td>0.0</td>\n",
       "      <td>0.0</td>\n",
       "      <td>NaN</td>\n",
       "    </tr>\n",
       "    <tr>\n",
       "      <th>blitz</th>\n",
       "      <td>0.0</td>\n",
       "      <td>0.0</td>\n",
       "      <td>0.0</td>\n",
       "      <td>0.5</td>\n",
       "      <td>0.0</td>\n",
       "      <td>0.0</td>\n",
       "      <td>NaN</td>\n",
       "    </tr>\n",
       "    <tr>\n",
       "      <th>stückchen</th>\n",
       "      <td>0.0</td>\n",
       "      <td>0.0</td>\n",
       "      <td>0.0</td>\n",
       "      <td>0.0</td>\n",
       "      <td>0.0</td>\n",
       "      <td>0.0</td>\n",
       "      <td>NaN</td>\n",
       "    </tr>\n",
       "    <tr>\n",
       "      <th>richtige</th>\n",
       "      <td>0.0</td>\n",
       "      <td>0.0</td>\n",
       "      <td>0.0</td>\n",
       "      <td>0.0</td>\n",
       "      <td>0.0</td>\n",
       "      <td>0.0</td>\n",
       "      <td>NaN</td>\n",
       "    </tr>\n",
       "  </tbody>\n",
       "</table>\n",
       "</div>"
      ],
      "text/plain": [
       "              emotionsbasierter_konfliktindikator  \\\n",
       "schmetterte                                   0.0   \n",
       "verschlungen                                  0.0   \n",
       "blitz                                         0.0   \n",
       "stückchen                                     0.0   \n",
       "richtige                                      0.0   \n",
       "\n",
       "              zustandsbasierter_konfliktindikator  \\\n",
       "schmetterte                                   0.0   \n",
       "verschlungen                                  0.0   \n",
       "blitz                                         0.0   \n",
       "stückchen                                     0.0   \n",
       "richtige                                      0.0   \n",
       "\n",
       "              aktionsbasierter_konfliktindikator  konflikthinweis  \\\n",
       "schmetterte                                  0.0              0.0   \n",
       "verschlungen                                 0.0              0.0   \n",
       "blitz                                        0.0              0.5   \n",
       "stückchen                                    0.0              0.0   \n",
       "richtige                                     0.0              0.0   \n",
       "\n",
       "              indikator_konfliktlösung  indikator_konfliktintensität  \\\n",
       "schmetterte                        0.0                           0.0   \n",
       "verschlungen                       0.0                           0.0   \n",
       "blitz                              0.0                           0.0   \n",
       "stückchen                          0.0                           0.0   \n",
       "richtige                           0.0                           0.0   \n",
       "\n",
       "              avrg_conflict  \n",
       "schmetterte             NaN  \n",
       "verschlungen            NaN  \n",
       "blitz                   NaN  \n",
       "stückchen               NaN  \n",
       "richtige                NaN  "
      ]
     },
     "execution_count": 37,
     "metadata": {},
     "output_type": "execute_result"
    }
   ],
   "source": [
    "df_conflict_labels.head()"
   ]
  },
  {
   "cell_type": "code",
   "execution_count": null,
   "id": "42a3adc2",
   "metadata": {},
   "outputs": [],
   "source": []
  },
  {
   "cell_type": "code",
   "execution_count": 38,
   "id": "7f0a0867",
   "metadata": {},
   "outputs": [],
   "source": [
    "# labels conflict\n",
    "\n",
    "tags_conflict = [\"emotionsbasierter_konfliktindikator\", \"zustandsbasierter_konfliktindikator\",\n",
    "                \"aktionsbasierter_konfliktindikator\", \"konflikthinweis\", \"indikator_konfliktintensität\"]"
   ]
  },
  {
   "cell_type": "code",
   "execution_count": null,
   "id": "09178403",
   "metadata": {},
   "outputs": [],
   "source": []
  },
  {
   "cell_type": "code",
   "execution_count": 39,
   "id": "f96695e1",
   "metadata": {},
   "outputs": [],
   "source": [
    "# fill column average conflict\n",
    "\n",
    "for index,row in df_conflict_labels.iterrows():\n",
    "    v=0\n",
    "    for tag in tags_conflict:\n",
    "        v+=df_conflict_labels.at[index,tag] #get value for specific label and add to sum of values\n",
    "    df_conflict_labels.at[index,'avrg_conflict'] = v/5 # divide value by no. of labels and add to df"
   ]
  },
  {
   "cell_type": "code",
   "execution_count": 40,
   "id": "be589601",
   "metadata": {},
   "outputs": [
    {
     "data": {
      "text/plain": [
       "0.2"
      ]
     },
     "execution_count": 40,
     "metadata": {},
     "output_type": "execute_result"
    }
   ],
   "source": [
    "df_conflict_labels.at['ausgerenktem','avrg_conflict']"
   ]
  },
  {
   "cell_type": "code",
   "execution_count": null,
   "id": "885fb599",
   "metadata": {},
   "outputs": [],
   "source": []
  },
  {
   "cell_type": "code",
   "execution_count": 41,
   "id": "a553a8db",
   "metadata": {},
   "outputs": [],
   "source": [
    "# get sorted list of columns\n",
    "\n",
    "df_high_conflict = df_conflict_labels.sort_values(by=['avrg_conflict'],ascending=False).copy()"
   ]
  },
  {
   "cell_type": "code",
   "execution_count": 42,
   "id": "c3c26097",
   "metadata": {},
   "outputs": [
    {
     "data": {
      "text/html": [
       "<div>\n",
       "<style scoped>\n",
       "    .dataframe tbody tr th:only-of-type {\n",
       "        vertical-align: middle;\n",
       "    }\n",
       "\n",
       "    .dataframe tbody tr th {\n",
       "        vertical-align: top;\n",
       "    }\n",
       "\n",
       "    .dataframe thead th {\n",
       "        text-align: right;\n",
       "    }\n",
       "</style>\n",
       "<table border=\"1\" class=\"dataframe\">\n",
       "  <thead>\n",
       "    <tr style=\"text-align: right;\">\n",
       "      <th></th>\n",
       "      <th>emotionsbasierter_konfliktindikator</th>\n",
       "      <th>zustandsbasierter_konfliktindikator</th>\n",
       "      <th>aktionsbasierter_konfliktindikator</th>\n",
       "      <th>konflikthinweis</th>\n",
       "      <th>indikator_konfliktlösung</th>\n",
       "      <th>indikator_konfliktintensität</th>\n",
       "      <th>avrg_conflict</th>\n",
       "    </tr>\n",
       "  </thead>\n",
       "  <tbody>\n",
       "    <tr>\n",
       "      <th>starrsinn</th>\n",
       "      <td>0.0</td>\n",
       "      <td>0.550000</td>\n",
       "      <td>0.0</td>\n",
       "      <td>0.450000</td>\n",
       "      <td>0.0</td>\n",
       "      <td>0.0</td>\n",
       "      <td>0.2</td>\n",
       "    </tr>\n",
       "    <tr>\n",
       "      <th>butterdieb</th>\n",
       "      <td>0.0</td>\n",
       "      <td>0.500000</td>\n",
       "      <td>0.0</td>\n",
       "      <td>0.500000</td>\n",
       "      <td>0.0</td>\n",
       "      <td>0.0</td>\n",
       "      <td>0.2</td>\n",
       "    </tr>\n",
       "    <tr>\n",
       "      <th>zerbleute</th>\n",
       "      <td>0.0</td>\n",
       "      <td>0.000000</td>\n",
       "      <td>1.0</td>\n",
       "      <td>0.000000</td>\n",
       "      <td>0.0</td>\n",
       "      <td>0.0</td>\n",
       "      <td>0.2</td>\n",
       "    </tr>\n",
       "    <tr>\n",
       "      <th>totgeprügelt</th>\n",
       "      <td>0.0</td>\n",
       "      <td>1.000000</td>\n",
       "      <td>0.0</td>\n",
       "      <td>0.000000</td>\n",
       "      <td>0.0</td>\n",
       "      <td>0.0</td>\n",
       "      <td>0.2</td>\n",
       "    </tr>\n",
       "    <tr>\n",
       "      <th>leichnam</th>\n",
       "      <td>0.0</td>\n",
       "      <td>0.166667</td>\n",
       "      <td>0.0</td>\n",
       "      <td>0.833333</td>\n",
       "      <td>0.0</td>\n",
       "      <td>0.0</td>\n",
       "      <td>0.2</td>\n",
       "    </tr>\n",
       "  </tbody>\n",
       "</table>\n",
       "</div>"
      ],
      "text/plain": [
       "              emotionsbasierter_konfliktindikator  \\\n",
       "starrsinn                                     0.0   \n",
       "butterdieb                                    0.0   \n",
       "zerbleute                                     0.0   \n",
       "totgeprügelt                                  0.0   \n",
       "leichnam                                      0.0   \n",
       "\n",
       "              zustandsbasierter_konfliktindikator  \\\n",
       "starrsinn                                0.550000   \n",
       "butterdieb                               0.500000   \n",
       "zerbleute                                0.000000   \n",
       "totgeprügelt                             1.000000   \n",
       "leichnam                                 0.166667   \n",
       "\n",
       "              aktionsbasierter_konfliktindikator  konflikthinweis  \\\n",
       "starrsinn                                    0.0         0.450000   \n",
       "butterdieb                                   0.0         0.500000   \n",
       "zerbleute                                    1.0         0.000000   \n",
       "totgeprügelt                                 0.0         0.000000   \n",
       "leichnam                                     0.0         0.833333   \n",
       "\n",
       "              indikator_konfliktlösung  indikator_konfliktintensität  \\\n",
       "starrsinn                          0.0                           0.0   \n",
       "butterdieb                         0.0                           0.0   \n",
       "zerbleute                          0.0                           0.0   \n",
       "totgeprügelt                       0.0                           0.0   \n",
       "leichnam                           0.0                           0.0   \n",
       "\n",
       "              avrg_conflict  \n",
       "starrsinn               0.2  \n",
       "butterdieb              0.2  \n",
       "zerbleute               0.2  \n",
       "totgeprügelt            0.2  \n",
       "leichnam                0.2  "
      ]
     },
     "execution_count": 42,
     "metadata": {},
     "output_type": "execute_result"
    }
   ],
   "source": [
    "df_high_conflict.head()"
   ]
  },
  {
   "cell_type": "code",
   "execution_count": 43,
   "id": "d7e76059",
   "metadata": {},
   "outputs": [],
   "source": [
    "labels_high_conflict = []\n",
    "\n",
    "for index,row in df_high_conflict.iterrows():\n",
    "    if df_high_conflict.at[index,'avrg_conflict'] == 0.2:\n",
    "        labels_high_conflict.append(index)"
   ]
  },
  {
   "cell_type": "code",
   "execution_count": 44,
   "id": "ab390824",
   "metadata": {
    "scrolled": true
   },
   "outputs": [
    {
     "data": {
      "text/plain": [
       "['starrsinn',\n",
       " 'butterdieb',\n",
       " 'zerbleute',\n",
       " 'totgeprügelt',\n",
       " 'leichnam',\n",
       " 'ängstlichem',\n",
       " 'geschimpft',\n",
       " 'habsucht',\n",
       " 'ermordung',\n",
       " 'weinkrampf',\n",
       " 'vorgeworfen',\n",
       " 'zerschlagenen',\n",
       " 'entzweiten',\n",
       " 'blutdurst',\n",
       " 'bombardieren',\n",
       " 'niederknallen',\n",
       " 'züchtigte',\n",
       " 'wimmernd',\n",
       " 'blutrünstig',\n",
       " 'bedenklicher',\n",
       " 'mißbrauchen',\n",
       " 'lumpenpack',\n",
       " 'gehorchte',\n",
       " 'blutfleck',\n",
       " 'schimpfte',\n",
       " 'schelten',\n",
       " 'anschrie',\n",
       " 'tränenstrom',\n",
       " 'frechheit',\n",
       " 'aufruhr',\n",
       " 'grausamer',\n",
       " 'ausgerenktem',\n",
       " 'prügeln',\n",
       " 'donnerwetter',\n",
       " 'lumpenhund',\n",
       " 'niederzubrennen',\n",
       " 'grausamste',\n",
       " 'verdammnis',\n",
       " 'entriß',\n",
       " 'durchgeweint',\n",
       " 'zerschlagenem',\n",
       " 'bangigkeit',\n",
       " 'skandal',\n",
       " 'ruinieren',\n",
       " 'ballte',\n",
       " 'fletschte',\n",
       " 'katastrophen',\n",
       " 'grausam',\n",
       " 'grimmigster',\n",
       " 'vermaledeiter',\n",
       " 'peinigte',\n",
       " 'verfluchte',\n",
       " 'stach',\n",
       " 'messerchen',\n",
       " 'verleumdung',\n",
       " 'zurechtweisungen',\n",
       " 'verfluchter',\n",
       " 'belogen',\n",
       " 'manipulation',\n",
       " 'schimpf',\n",
       " 'schauder',\n",
       " 'durchgedroschen',\n",
       " 'drohungen',\n",
       " 'beschimpfen',\n",
       " 'ermordeten',\n",
       " 'zerschlagen',\n",
       " 'schlägereien',\n",
       " 'gewehre',\n",
       " 'gebrochenem',\n",
       " 'verwüstung',\n",
       " 'einschlagen',\n",
       " 'straften']"
      ]
     },
     "execution_count": 44,
     "metadata": {},
     "output_type": "execute_result"
    }
   ],
   "source": [
    "labels_high_conflict"
   ]
  },
  {
   "cell_type": "code",
   "execution_count": 45,
   "id": "347ed00d",
   "metadata": {},
   "outputs": [
    {
     "data": {
      "text/plain": [
       "72"
      ]
     },
     "execution_count": 45,
     "metadata": {},
     "output_type": "execute_result"
    }
   ],
   "source": [
    "len(labels_high_conflict)"
   ]
  },
  {
   "cell_type": "code",
   "execution_count": null,
   "id": "6579717b",
   "metadata": {},
   "outputs": [],
   "source": []
  },
  {
   "cell_type": "code",
   "execution_count": 46,
   "id": "1406bec5",
   "metadata": {},
   "outputs": [],
   "source": [
    "df_low_conflict = df_conflict_labels.sort_values(by=['indikator_konfliktlösung'],ascending=False).copy()"
   ]
  },
  {
   "cell_type": "code",
   "execution_count": 47,
   "id": "5c5234e2",
   "metadata": {
    "scrolled": true
   },
   "outputs": [
    {
     "data": {
      "text/html": [
       "<div>\n",
       "<style scoped>\n",
       "    .dataframe tbody tr th:only-of-type {\n",
       "        vertical-align: middle;\n",
       "    }\n",
       "\n",
       "    .dataframe tbody tr th {\n",
       "        vertical-align: top;\n",
       "    }\n",
       "\n",
       "    .dataframe thead th {\n",
       "        text-align: right;\n",
       "    }\n",
       "</style>\n",
       "<table border=\"1\" class=\"dataframe\">\n",
       "  <thead>\n",
       "    <tr style=\"text-align: right;\">\n",
       "      <th></th>\n",
       "      <th>emotionsbasierter_konfliktindikator</th>\n",
       "      <th>zustandsbasierter_konfliktindikator</th>\n",
       "      <th>aktionsbasierter_konfliktindikator</th>\n",
       "      <th>konflikthinweis</th>\n",
       "      <th>indikator_konfliktlösung</th>\n",
       "      <th>indikator_konfliktintensität</th>\n",
       "      <th>avrg_conflict</th>\n",
       "    </tr>\n",
       "  </thead>\n",
       "  <tbody>\n",
       "    <tr>\n",
       "      <th>tröstete</th>\n",
       "      <td>0.0</td>\n",
       "      <td>0.0</td>\n",
       "      <td>0.000000</td>\n",
       "      <td>0.000000</td>\n",
       "      <td>0.833333</td>\n",
       "      <td>0.0</td>\n",
       "      <td>0.000000</td>\n",
       "    </tr>\n",
       "    <tr>\n",
       "      <th>besänftigen</th>\n",
       "      <td>0.0</td>\n",
       "      <td>0.0</td>\n",
       "      <td>0.000000</td>\n",
       "      <td>0.000000</td>\n",
       "      <td>0.800000</td>\n",
       "      <td>0.0</td>\n",
       "      <td>0.000000</td>\n",
       "    </tr>\n",
       "    <tr>\n",
       "      <th>söhnte</th>\n",
       "      <td>0.0</td>\n",
       "      <td>0.0</td>\n",
       "      <td>0.000000</td>\n",
       "      <td>0.000000</td>\n",
       "      <td>0.800000</td>\n",
       "      <td>0.0</td>\n",
       "      <td>0.000000</td>\n",
       "    </tr>\n",
       "    <tr>\n",
       "      <th>übereinkommen</th>\n",
       "      <td>0.0</td>\n",
       "      <td>0.0</td>\n",
       "      <td>0.000000</td>\n",
       "      <td>0.000000</td>\n",
       "      <td>0.800000</td>\n",
       "      <td>0.0</td>\n",
       "      <td>0.000000</td>\n",
       "    </tr>\n",
       "    <tr>\n",
       "      <th>tröstende</th>\n",
       "      <td>0.0</td>\n",
       "      <td>0.0</td>\n",
       "      <td>0.000000</td>\n",
       "      <td>0.000000</td>\n",
       "      <td>0.666667</td>\n",
       "      <td>0.0</td>\n",
       "      <td>0.000000</td>\n",
       "    </tr>\n",
       "    <tr>\n",
       "      <th>reich</th>\n",
       "      <td>0.0</td>\n",
       "      <td>0.0</td>\n",
       "      <td>0.000000</td>\n",
       "      <td>0.000000</td>\n",
       "      <td>0.666667</td>\n",
       "      <td>0.0</td>\n",
       "      <td>0.000000</td>\n",
       "    </tr>\n",
       "    <tr>\n",
       "      <th>versöhnt</th>\n",
       "      <td>0.0</td>\n",
       "      <td>0.0</td>\n",
       "      <td>0.000000</td>\n",
       "      <td>0.000000</td>\n",
       "      <td>0.666667</td>\n",
       "      <td>0.0</td>\n",
       "      <td>0.000000</td>\n",
       "    </tr>\n",
       "    <tr>\n",
       "      <th>beruhigte</th>\n",
       "      <td>0.0</td>\n",
       "      <td>0.0</td>\n",
       "      <td>0.000000</td>\n",
       "      <td>0.000000</td>\n",
       "      <td>0.650000</td>\n",
       "      <td>0.0</td>\n",
       "      <td>0.000000</td>\n",
       "    </tr>\n",
       "    <tr>\n",
       "      <th>überstehen</th>\n",
       "      <td>0.0</td>\n",
       "      <td>0.0</td>\n",
       "      <td>0.000000</td>\n",
       "      <td>0.000000</td>\n",
       "      <td>0.600000</td>\n",
       "      <td>0.0</td>\n",
       "      <td>0.000000</td>\n",
       "    </tr>\n",
       "    <tr>\n",
       "      <th>erträglich</th>\n",
       "      <td>0.0</td>\n",
       "      <td>0.0</td>\n",
       "      <td>0.000000</td>\n",
       "      <td>0.000000</td>\n",
       "      <td>0.600000</td>\n",
       "      <td>0.0</td>\n",
       "      <td>0.000000</td>\n",
       "    </tr>\n",
       "    <tr>\n",
       "      <th>beruhigen</th>\n",
       "      <td>0.0</td>\n",
       "      <td>0.0</td>\n",
       "      <td>0.000000</td>\n",
       "      <td>0.000000</td>\n",
       "      <td>0.600000</td>\n",
       "      <td>0.0</td>\n",
       "      <td>0.000000</td>\n",
       "    </tr>\n",
       "    <tr>\n",
       "      <th>erlösung</th>\n",
       "      <td>0.0</td>\n",
       "      <td>0.0</td>\n",
       "      <td>0.000000</td>\n",
       "      <td>0.000000</td>\n",
       "      <td>0.600000</td>\n",
       "      <td>0.0</td>\n",
       "      <td>0.000000</td>\n",
       "    </tr>\n",
       "    <tr>\n",
       "      <th>schonung</th>\n",
       "      <td>0.0</td>\n",
       "      <td>0.0</td>\n",
       "      <td>0.000000</td>\n",
       "      <td>0.000000</td>\n",
       "      <td>0.600000</td>\n",
       "      <td>0.0</td>\n",
       "      <td>0.000000</td>\n",
       "    </tr>\n",
       "    <tr>\n",
       "      <th>gewonnen</th>\n",
       "      <td>0.0</td>\n",
       "      <td>0.0</td>\n",
       "      <td>0.000000</td>\n",
       "      <td>0.000000</td>\n",
       "      <td>0.600000</td>\n",
       "      <td>0.0</td>\n",
       "      <td>0.000000</td>\n",
       "    </tr>\n",
       "    <tr>\n",
       "      <th>schonen</th>\n",
       "      <td>0.0</td>\n",
       "      <td>0.0</td>\n",
       "      <td>0.000000</td>\n",
       "      <td>0.000000</td>\n",
       "      <td>0.600000</td>\n",
       "      <td>0.0</td>\n",
       "      <td>0.000000</td>\n",
       "    </tr>\n",
       "    <tr>\n",
       "      <th>beruhigt</th>\n",
       "      <td>0.0</td>\n",
       "      <td>0.0</td>\n",
       "      <td>0.000000</td>\n",
       "      <td>0.000000</td>\n",
       "      <td>0.550000</td>\n",
       "      <td>0.0</td>\n",
       "      <td>0.000000</td>\n",
       "    </tr>\n",
       "    <tr>\n",
       "      <th>bittend</th>\n",
       "      <td>0.0</td>\n",
       "      <td>0.0</td>\n",
       "      <td>0.000000</td>\n",
       "      <td>0.000000</td>\n",
       "      <td>0.500000</td>\n",
       "      <td>0.0</td>\n",
       "      <td>0.000000</td>\n",
       "    </tr>\n",
       "    <tr>\n",
       "      <th>alibi</th>\n",
       "      <td>0.0</td>\n",
       "      <td>0.0</td>\n",
       "      <td>0.000000</td>\n",
       "      <td>0.166667</td>\n",
       "      <td>0.500000</td>\n",
       "      <td>0.0</td>\n",
       "      <td>0.033333</td>\n",
       "    </tr>\n",
       "    <tr>\n",
       "      <th>abhängig</th>\n",
       "      <td>0.0</td>\n",
       "      <td>0.0</td>\n",
       "      <td>0.000000</td>\n",
       "      <td>0.000000</td>\n",
       "      <td>0.500000</td>\n",
       "      <td>0.0</td>\n",
       "      <td>0.000000</td>\n",
       "    </tr>\n",
       "    <tr>\n",
       "      <th>gerückt</th>\n",
       "      <td>0.0</td>\n",
       "      <td>0.0</td>\n",
       "      <td>0.333333</td>\n",
       "      <td>0.000000</td>\n",
       "      <td>0.500000</td>\n",
       "      <td>0.0</td>\n",
       "      <td>0.066667</td>\n",
       "    </tr>\n",
       "  </tbody>\n",
       "</table>\n",
       "</div>"
      ],
      "text/plain": [
       "               emotionsbasierter_konfliktindikator  \\\n",
       "tröstete                                       0.0   \n",
       "besänftigen                                    0.0   \n",
       "söhnte                                         0.0   \n",
       "übereinkommen                                  0.0   \n",
       "tröstende                                      0.0   \n",
       "reich                                          0.0   \n",
       "versöhnt                                       0.0   \n",
       "beruhigte                                      0.0   \n",
       "überstehen                                     0.0   \n",
       "erträglich                                     0.0   \n",
       "beruhigen                                      0.0   \n",
       "erlösung                                       0.0   \n",
       "schonung                                       0.0   \n",
       "gewonnen                                       0.0   \n",
       "schonen                                        0.0   \n",
       "beruhigt                                       0.0   \n",
       "bittend                                        0.0   \n",
       "alibi                                          0.0   \n",
       "abhängig                                       0.0   \n",
       "gerückt                                        0.0   \n",
       "\n",
       "               zustandsbasierter_konfliktindikator  \\\n",
       "tröstete                                       0.0   \n",
       "besänftigen                                    0.0   \n",
       "söhnte                                         0.0   \n",
       "übereinkommen                                  0.0   \n",
       "tröstende                                      0.0   \n",
       "reich                                          0.0   \n",
       "versöhnt                                       0.0   \n",
       "beruhigte                                      0.0   \n",
       "überstehen                                     0.0   \n",
       "erträglich                                     0.0   \n",
       "beruhigen                                      0.0   \n",
       "erlösung                                       0.0   \n",
       "schonung                                       0.0   \n",
       "gewonnen                                       0.0   \n",
       "schonen                                        0.0   \n",
       "beruhigt                                       0.0   \n",
       "bittend                                        0.0   \n",
       "alibi                                          0.0   \n",
       "abhängig                                       0.0   \n",
       "gerückt                                        0.0   \n",
       "\n",
       "               aktionsbasierter_konfliktindikator  konflikthinweis  \\\n",
       "tröstete                                 0.000000         0.000000   \n",
       "besänftigen                              0.000000         0.000000   \n",
       "söhnte                                   0.000000         0.000000   \n",
       "übereinkommen                            0.000000         0.000000   \n",
       "tröstende                                0.000000         0.000000   \n",
       "reich                                    0.000000         0.000000   \n",
       "versöhnt                                 0.000000         0.000000   \n",
       "beruhigte                                0.000000         0.000000   \n",
       "überstehen                               0.000000         0.000000   \n",
       "erträglich                               0.000000         0.000000   \n",
       "beruhigen                                0.000000         0.000000   \n",
       "erlösung                                 0.000000         0.000000   \n",
       "schonung                                 0.000000         0.000000   \n",
       "gewonnen                                 0.000000         0.000000   \n",
       "schonen                                  0.000000         0.000000   \n",
       "beruhigt                                 0.000000         0.000000   \n",
       "bittend                                  0.000000         0.000000   \n",
       "alibi                                    0.000000         0.166667   \n",
       "abhängig                                 0.000000         0.000000   \n",
       "gerückt                                  0.333333         0.000000   \n",
       "\n",
       "               indikator_konfliktlösung  indikator_konfliktintensität  \\\n",
       "tröstete                       0.833333                           0.0   \n",
       "besänftigen                    0.800000                           0.0   \n",
       "söhnte                         0.800000                           0.0   \n",
       "übereinkommen                  0.800000                           0.0   \n",
       "tröstende                      0.666667                           0.0   \n",
       "reich                          0.666667                           0.0   \n",
       "versöhnt                       0.666667                           0.0   \n",
       "beruhigte                      0.650000                           0.0   \n",
       "überstehen                     0.600000                           0.0   \n",
       "erträglich                     0.600000                           0.0   \n",
       "beruhigen                      0.600000                           0.0   \n",
       "erlösung                       0.600000                           0.0   \n",
       "schonung                       0.600000                           0.0   \n",
       "gewonnen                       0.600000                           0.0   \n",
       "schonen                        0.600000                           0.0   \n",
       "beruhigt                       0.550000                           0.0   \n",
       "bittend                        0.500000                           0.0   \n",
       "alibi                          0.500000                           0.0   \n",
       "abhängig                       0.500000                           0.0   \n",
       "gerückt                        0.500000                           0.0   \n",
       "\n",
       "               avrg_conflict  \n",
       "tröstete            0.000000  \n",
       "besänftigen         0.000000  \n",
       "söhnte              0.000000  \n",
       "übereinkommen       0.000000  \n",
       "tröstende           0.000000  \n",
       "reich               0.000000  \n",
       "versöhnt            0.000000  \n",
       "beruhigte           0.000000  \n",
       "überstehen          0.000000  \n",
       "erträglich          0.000000  \n",
       "beruhigen           0.000000  \n",
       "erlösung            0.000000  \n",
       "schonung            0.000000  \n",
       "gewonnen            0.000000  \n",
       "schonen             0.000000  \n",
       "beruhigt            0.000000  \n",
       "bittend             0.000000  \n",
       "alibi               0.033333  \n",
       "abhängig            0.000000  \n",
       "gerückt             0.066667  "
      ]
     },
     "execution_count": 47,
     "metadata": {},
     "output_type": "execute_result"
    }
   ],
   "source": [
    "df_low_conflict.head(20)"
   ]
  },
  {
   "cell_type": "code",
   "execution_count": 48,
   "id": "e7fce3ea",
   "metadata": {},
   "outputs": [],
   "source": [
    "labels_low_conflict = []\n",
    "\n",
    "for index,row in df_low_conflict.iterrows():\n",
    "    if df_low_conflict.at[index,'indikator_konfliktlösung'] > 0.4: #>0.3 -> in total 100 words\n",
    "        labels_low_conflict.append(index)"
   ]
  },
  {
   "cell_type": "code",
   "execution_count": 49,
   "id": "edcf2fad",
   "metadata": {
    "scrolled": false
   },
   "outputs": [
    {
     "data": {
      "text/plain": [
       "['tröstete',\n",
       " 'besänftigen',\n",
       " 'söhnte',\n",
       " 'übereinkommen',\n",
       " 'tröstende',\n",
       " 'reich',\n",
       " 'versöhnt',\n",
       " 'beruhigte',\n",
       " 'überstehen',\n",
       " 'erträglich',\n",
       " 'beruhigen',\n",
       " 'erlösung',\n",
       " 'schonung',\n",
       " 'gewonnen',\n",
       " 'schonen',\n",
       " 'beruhigt',\n",
       " 'bittend',\n",
       " 'alibi',\n",
       " 'abhängig',\n",
       " 'gerückt',\n",
       " 'trösten',\n",
       " 'freisprechen',\n",
       " 'ausweg',\n",
       " 'entgegenkommen',\n",
       " 'leichterm',\n",
       " 'besserung']"
      ]
     },
     "execution_count": 49,
     "metadata": {},
     "output_type": "execute_result"
    }
   ],
   "source": [
    "labels_low_conflict"
   ]
  },
  {
   "cell_type": "code",
   "execution_count": 50,
   "id": "beb3f4f6",
   "metadata": {},
   "outputs": [
    {
     "data": {
      "text/plain": [
       "26"
      ]
     },
     "execution_count": 50,
     "metadata": {},
     "output_type": "execute_result"
    }
   ],
   "source": [
    "len(labels_low_conflict)"
   ]
  },
  {
   "cell_type": "code",
   "execution_count": null,
   "id": "0bda867d",
   "metadata": {},
   "outputs": [],
   "source": []
  },
  {
   "cell_type": "code",
   "execution_count": 51,
   "id": "45e25f8e",
   "metadata": {},
   "outputs": [],
   "source": [
    "# save\n",
    "\n",
    "with open(path_results_pkl + '\\\\230126_lst_labels_high_conflict.pkl', 'wb') as f:\n",
    "    pickle.dump(labels_high_conflict, f)"
   ]
  },
  {
   "cell_type": "code",
   "execution_count": 52,
   "id": "45527368",
   "metadata": {},
   "outputs": [],
   "source": [
    "with open(path_results_pkl + '\\\\230126_lst_labels_low_conflict.pkl', 'wb') as f:\n",
    "    pickle.dump(labels_low_conflict, f)"
   ]
  },
  {
   "cell_type": "code",
   "execution_count": null,
   "id": "66499891",
   "metadata": {},
   "outputs": [],
   "source": []
  }
 ],
 "metadata": {
  "kernelspec": {
   "display_name": "Python 3 (ipykernel)",
   "language": "python",
   "name": "python3"
  },
  "language_info": {
   "codemirror_mode": {
    "name": "ipython",
    "version": 3
   },
   "file_extension": ".py",
   "mimetype": "text/x-python",
   "name": "python",
   "nbconvert_exporter": "python",
   "pygments_lexer": "ipython3",
   "version": "3.10.9"
  }
 },
 "nbformat": 4,
 "nbformat_minor": 5
}
