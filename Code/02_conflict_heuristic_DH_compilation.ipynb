{
 "cells": [
  {
   "cell_type": "markdown",
   "id": "00f6d1a6",
   "metadata": {},
   "source": [
    "# Towards a Conflict Heuristic (DH 2023)\n",
    "\n",
    "## 02. Compile Preprocessed Corpora\n",
    "\n",
    "Last updated: 16.01.2023\n",
    "\n",
    "julian.haeussler[at]tu-darmstadt.de"
   ]
  },
  {
   "cell_type": "code",
   "execution_count": 1,
   "id": "f4708744",
   "metadata": {},
   "outputs": [],
   "source": [
    "# imports\n",
    "\n",
    "import glob\n",
    "import os\n",
    "import pickle\n",
    "import re"
   ]
  },
  {
   "cell_type": "code",
   "execution_count": 2,
   "id": "4fff1b9b",
   "metadata": {},
   "outputs": [],
   "source": [
    "# paths\n",
    "\n",
    "path_data = r'C:\\Users\\Public\\Data\\conflict_heuristics\\pickled\\all'\n",
    "\n",
    "path_results = r'C:\\Users\\Public\\Data\\conflict_heuristics\\pickled'"
   ]
  },
  {
   "cell_type": "code",
   "execution_count": 3,
   "id": "43a1a733",
   "metadata": {},
   "outputs": [],
   "source": [
    "# read in corpus lists\n",
    "\n",
    "# Romantik\n",
    "\n",
    "lst_files = glob.glob(os.path.join(os.getcwd(), r'C:\\Users\\Julian\\HESSENBOX-DA\\Projekte\\Konflikte\\Daten\\Romantik (abgeschlossen)\\TXT\\Kernkorpus', \"*.txt\"))\n",
    "\n",
    "novels_Romantik_core = []\n",
    "\n",
    "for entry in lst_files:\n",
    "    novels_Romantik_core.append(re.search(r\"(?<=Kernkorpus\\\\)(.*)(?=.txt)\",entry).group(1))"
   ]
  },
  {
   "cell_type": "code",
   "execution_count": 4,
   "id": "720b7409",
   "metadata": {},
   "outputs": [],
   "source": [
    "lst_files = glob.glob(os.path.join(os.getcwd(), r'C:\\Users\\Julian\\HESSENBOX-DA\\Projekte\\Konflikte\\Daten\\Romantik (abgeschlossen)\\TXT\\Ergänzung I', \"*.txt\"))\n",
    "\n",
    "novels_Romantik_I = []\n",
    "\n",
    "for entry in lst_files:\n",
    "    novels_Romantik_I.append(re.search(r\"(?<=Ergänzung I\\\\)(.*)(?=.txt)\",entry).group(1))"
   ]
  },
  {
   "cell_type": "code",
   "execution_count": 5,
   "id": "a4de63b0",
   "metadata": {},
   "outputs": [],
   "source": [
    "lst_files = glob.glob(os.path.join(os.getcwd(), r'C:\\Users\\Julian\\HESSENBOX-DA\\Projekte\\Konflikte\\Daten\\Romantik (abgeschlossen)\\TXT\\Ergänzung II', \"*.txt\"))\n",
    "\n",
    "novels_Romantik_II = []\n",
    "\n",
    "for entry in lst_files:\n",
    "    novels_Romantik_II.append(re.search(r\"(?<=Ergänzung II\\\\)(.*)(?=.txt)\",entry).group(1))"
   ]
  },
  {
   "cell_type": "code",
   "execution_count": 6,
   "id": "ff863510",
   "metadata": {},
   "outputs": [],
   "source": [
    "# Realismus\n",
    "    \n",
    "lst_files = glob.glob(os.path.join(os.getcwd(), r'C:\\Users\\Public\\Data\\Korpuserstellung\\Realismus', \"*.txt\"))\n",
    "\n",
    "novels_Realismus = []\n",
    "\n",
    "for entry in lst_files:\n",
    "    novels_Realismus.append(re.search(r\"(?<=Realismus\\\\)(.*)(?=.txt)\",entry).group(1))"
   ]
  },
  {
   "cell_type": "code",
   "execution_count": 7,
   "id": "703c8cee",
   "metadata": {},
   "outputs": [],
   "source": [
    "# Naturalismus\n",
    "\n",
    "lst_files = glob.glob(os.path.join(os.getcwd(), r'C:\\Users\\Public\\Data\\Korpuserstellung\\Naturalismus', \"*.txt\"))\n",
    "\n",
    "novels_Naturalismus = []\n",
    "\n",
    "for entry in lst_files:\n",
    "    novels_Naturalismus.append(re.search(r\"(?<=Naturalismus\\\\)(.*)(?=.txt)\",entry).group(1))"
   ]
  },
  {
   "cell_type": "code",
   "execution_count": null,
   "id": "280683c8",
   "metadata": {},
   "outputs": [],
   "source": []
  },
  {
   "cell_type": "code",
   "execution_count": 8,
   "id": "e2eb692b",
   "metadata": {},
   "outputs": [],
   "source": [
    "# create lists of lists of phrases LEMMATIZED (lst_lists_phrases_Romantik_core, lst_lists_phrases_Romantik, \n",
    "#                                              lst_lists_phrases_Realismus, lst_lists_Naturalismus)\n",
    "\n",
    "lst_files = glob.glob(os.path.join(os.getcwd(), path_data, \"*.pkl\"))"
   ]
  },
  {
   "cell_type": "code",
   "execution_count": 9,
   "id": "77f2e01c",
   "metadata": {},
   "outputs": [],
   "source": [
    "lst_lists_phrases_Romantik_core_LEMMATIZED = []\n",
    "\n",
    "for i in range(0,len(lst_files)):\n",
    "    if i%4 == 0:\n",
    "        name = re.search(r\"(?<=all\\\\)(.*)(?=_phrases_lemmatized)\",lst_files[i]).group(1)\n",
    "        if name in novels_Romantik_core:\n",
    "            with open(lst_files[i], 'rb') as f:\n",
    "                lst_lists_phrases_Romantik_core_LEMMATIZED.append(pickle.load(f))"
   ]
  },
  {
   "cell_type": "code",
   "execution_count": 10,
   "id": "daafb0a0",
   "metadata": {},
   "outputs": [],
   "source": [
    "lst_lists_phrases_Romantik_LEMMATIZED = []\n",
    "\n",
    "novels_Romantik = novels_Romantik_core.copy()\n",
    "novels_Romantik.extend(novels_Romantik_I)\n",
    "novels_Romantik.extend(novels_Romantik_II)\n",
    "\n",
    "for i in range(0,len(lst_files)):\n",
    "    if i%4 == 0:\n",
    "        name = re.search(r\"(?<=all\\\\)(.*)(?=_phrases_lemmatized)\",lst_files[i]).group(1)\n",
    "        if name in novels_Romantik:\n",
    "            with open(lst_files[i], 'rb') as f:\n",
    "                lst_lists_phrases_Romantik_LEMMATIZED.append(pickle.load(f))"
   ]
  },
  {
   "cell_type": "code",
   "execution_count": 11,
   "id": "5207c1b4",
   "metadata": {},
   "outputs": [],
   "source": [
    "lst_lists_phrases_Realismus_LEMMATIZED = []\n",
    "\n",
    "for i in range(0,len(lst_files)):\n",
    "    if i%4 == 0:\n",
    "        name = re.search(r\"(?<=all\\\\)(.*)(?=_phrases_lemmatized)\",lst_files[i]).group(1)\n",
    "        if name in novels_Realismus:\n",
    "            with open(lst_files[i], 'rb') as f:\n",
    "                lst_lists_phrases_Realismus_LEMMATIZED.append(pickle.load(f))"
   ]
  },
  {
   "cell_type": "code",
   "execution_count": 13,
   "id": "734db15d",
   "metadata": {},
   "outputs": [],
   "source": [
    "lst_lists_phrases_Naturalismus_LEMMATIZED = []\n",
    "\n",
    "for i in range(0,len(lst_files)):\n",
    "    if i%4 == 0:\n",
    "        name = re.search(r\"(?<=all\\\\)(.*)(?=_phrases_lemmatized)\",lst_files[i]).group(1)\n",
    "        if name in novels_Naturalismus:\n",
    "            with open(lst_files[i], 'rb') as f:\n",
    "                lst_lists_phrases_Naturalismus_LEMMATIZED.append(pickle.load(f))"
   ]
  },
  {
   "cell_type": "code",
   "execution_count": null,
   "id": "ca304c7d",
   "metadata": {},
   "outputs": [],
   "source": []
  },
  {
   "cell_type": "code",
   "execution_count": 14,
   "id": "83dfae90",
   "metadata": {},
   "outputs": [
    {
     "data": {
      "text/plain": [
       "26"
      ]
     },
     "execution_count": 14,
     "metadata": {},
     "output_type": "execute_result"
    }
   ],
   "source": [
    "len(lst_lists_phrases_Romantik_core_LEMMATIZED)"
   ]
  },
  {
   "cell_type": "code",
   "execution_count": 15,
   "id": "298cf558",
   "metadata": {},
   "outputs": [
    {
     "data": {
      "text/plain": [
       "115"
      ]
     },
     "execution_count": 15,
     "metadata": {},
     "output_type": "execute_result"
    }
   ],
   "source": [
    "len(lst_lists_phrases_Romantik_LEMMATIZED)"
   ]
  },
  {
   "cell_type": "code",
   "execution_count": 16,
   "id": "01d95b91",
   "metadata": {},
   "outputs": [
    {
     "data": {
      "text/plain": [
       "56"
      ]
     },
     "execution_count": 16,
     "metadata": {},
     "output_type": "execute_result"
    }
   ],
   "source": [
    "len(lst_lists_phrases_Realismus_LEMMATIZED)"
   ]
  },
  {
   "cell_type": "code",
   "execution_count": 17,
   "id": "f6d6f45f",
   "metadata": {},
   "outputs": [
    {
     "data": {
      "text/plain": [
       "46"
      ]
     },
     "execution_count": 17,
     "metadata": {},
     "output_type": "execute_result"
    }
   ],
   "source": [
    "len(lst_lists_phrases_Naturalismus_LEMMATIZED)"
   ]
  },
  {
   "cell_type": "code",
   "execution_count": null,
   "id": "0d4c8eef",
   "metadata": {},
   "outputs": [],
   "source": []
  },
  {
   "cell_type": "code",
   "execution_count": 18,
   "id": "20e5f2f5",
   "metadata": {},
   "outputs": [],
   "source": [
    "# save\n",
    "\n",
    "with open(path_results + '\\\\230116_lst_lists_phrases_Romantik_core_LEMMATIZED.pkl', 'wb') as f:\n",
    "    pickle.dump(lst_lists_phrases_Romantik_core_LEMMATIZED, f)"
   ]
  },
  {
   "cell_type": "code",
   "execution_count": 19,
   "id": "8ef47f58",
   "metadata": {},
   "outputs": [],
   "source": [
    "with open(path_results + '\\\\230116_lst_lists_phrases_Romantik_LEMMATIZED.pkl', 'wb') as f:\n",
    "    pickle.dump(lst_lists_phrases_Romantik_LEMMATIZED, f)"
   ]
  },
  {
   "cell_type": "code",
   "execution_count": 20,
   "id": "69a0e684",
   "metadata": {},
   "outputs": [],
   "source": [
    "with open(path_results + '\\\\230116_lst_lists_phrases_Realismus_LEMMATIZED.pkl', 'wb') as f:\n",
    "    pickle.dump(lst_lists_phrases_Realismus_LEMMATIZED, f)"
   ]
  },
  {
   "cell_type": "code",
   "execution_count": 21,
   "id": "abe987df",
   "metadata": {},
   "outputs": [],
   "source": [
    "with open(path_results + '\\\\230116_lst_lists_phrases_Naturalismus_LEMMATIZED.pkl', 'wb') as f:\n",
    "    pickle.dump(lst_lists_phrases_Naturalismus_LEMMATIZED, f)"
   ]
  },
  {
   "cell_type": "code",
   "execution_count": null,
   "id": "d4bf1e2c",
   "metadata": {},
   "outputs": [],
   "source": []
  },
  {
   "cell_type": "code",
   "execution_count": 30,
   "id": "ee99a1d6",
   "metadata": {},
   "outputs": [],
   "source": [
    "# create lists of phrases (lst_phrases_Romantik_core, lst_phrases_Romantik,\n",
    "#                          lst_phrases_Realismus, lst_phrases_Naturalismus)\n",
    "\n",
    "lst_lists_phrases_Romantik_core_TOKENIZED = []\n",
    "\n",
    "for i in range(0,len(lst_files)):\n",
    "    if i%4 == 0:\n",
    "        name = re.search(r\"(?<=all\\\\)(.*)(?=_phrases_tokenized)\",lst_files[i+1]).group(1)\n",
    "        if name in novels_Romantik_core:\n",
    "            with open(lst_files[i+1], 'rb') as f:\n",
    "                lst_lists_phrases_Romantik_core_TOKENIZED.append(pickle.load(f))"
   ]
  },
  {
   "cell_type": "code",
   "execution_count": 31,
   "id": "35f4686f",
   "metadata": {},
   "outputs": [],
   "source": [
    "lst_lists_phrases_Romantik_TOKENIZED = []\n",
    "\n",
    "for i in range(0,len(lst_files)):\n",
    "    if i%4 == 0:\n",
    "        name = re.search(r\"(?<=all\\\\)(.*)(?=_phrases_tokenized)\",lst_files[i+1]).group(1)\n",
    "        if name in novels_Romantik:\n",
    "            with open(lst_files[i+1], 'rb') as f:\n",
    "                lst_lists_phrases_Romantik_TOKENIZED.append(pickle.load(f))"
   ]
  },
  {
   "cell_type": "code",
   "execution_count": 32,
   "id": "168980f7",
   "metadata": {},
   "outputs": [],
   "source": [
    "lst_lists_phrases_Realismus_TOKENIZED = []\n",
    "\n",
    "for i in range(0,len(lst_files)):\n",
    "    if i%4 == 0:\n",
    "        name = re.search(r\"(?<=all\\\\)(.*)(?=_phrases_tokenized)\",lst_files[i+1]).group(1)\n",
    "        if name in novels_Realismus:\n",
    "            with open(lst_files[i+1], 'rb') as f:\n",
    "                lst_lists_phrases_Realismus_TOKENIZED.append(pickle.load(f))"
   ]
  },
  {
   "cell_type": "code",
   "execution_count": 33,
   "id": "d6a6602c",
   "metadata": {},
   "outputs": [],
   "source": [
    "lst_lists_phrases_Naturalismus_TOKENIZED = []\n",
    "\n",
    "for i in range(0,len(lst_files)):\n",
    "    if i%4 == 0:\n",
    "        name = re.search(r\"(?<=all\\\\)(.*)(?=_phrases_tokenized)\",lst_files[i+1]).group(1)\n",
    "        if name in novels_Naturalismus:\n",
    "            with open(lst_files[i+1], 'rb') as f:\n",
    "                lst_lists_phrases_Naturalismus_TOKENIZED.append(pickle.load(f))"
   ]
  },
  {
   "cell_type": "code",
   "execution_count": null,
   "id": "3be50358",
   "metadata": {},
   "outputs": [],
   "source": []
  },
  {
   "cell_type": "code",
   "execution_count": 39,
   "id": "935046db",
   "metadata": {},
   "outputs": [
    {
     "data": {
      "text/plain": [
       "26"
      ]
     },
     "execution_count": 39,
     "metadata": {},
     "output_type": "execute_result"
    }
   ],
   "source": [
    "len(lst_lists_phrases_Romantik_core_TOKENIZED)"
   ]
  },
  {
   "cell_type": "code",
   "execution_count": 40,
   "id": "e98055ba",
   "metadata": {},
   "outputs": [
    {
     "data": {
      "text/plain": [
       "115"
      ]
     },
     "execution_count": 40,
     "metadata": {},
     "output_type": "execute_result"
    }
   ],
   "source": [
    "len(lst_lists_phrases_Romantik_TOKENIZED)"
   ]
  },
  {
   "cell_type": "code",
   "execution_count": 41,
   "id": "6f6634e8",
   "metadata": {},
   "outputs": [
    {
     "data": {
      "text/plain": [
       "56"
      ]
     },
     "execution_count": 41,
     "metadata": {},
     "output_type": "execute_result"
    }
   ],
   "source": [
    "len(lst_lists_phrases_Realismus_TOKENIZED)"
   ]
  },
  {
   "cell_type": "code",
   "execution_count": 42,
   "id": "e16bc9f4",
   "metadata": {},
   "outputs": [
    {
     "data": {
      "text/plain": [
       "46"
      ]
     },
     "execution_count": 42,
     "metadata": {},
     "output_type": "execute_result"
    }
   ],
   "source": [
    "len(lst_lists_phrases_Naturalismus_TOKENIZED)"
   ]
  },
  {
   "cell_type": "code",
   "execution_count": null,
   "id": "0c8fa0ed",
   "metadata": {},
   "outputs": [],
   "source": []
  },
  {
   "cell_type": "code",
   "execution_count": 43,
   "id": "44cff41d",
   "metadata": {},
   "outputs": [],
   "source": [
    "# save\n",
    "\n",
    "with open(path_results + '\\\\230116_lst_lists_phrases_Romantik_core_TOKENIZED.pkl', 'wb') as f:\n",
    "    pickle.dump(lst_lists_phrases_Romantik_core_TOKENIZED, f)"
   ]
  },
  {
   "cell_type": "code",
   "execution_count": 44,
   "id": "074f0a52",
   "metadata": {},
   "outputs": [],
   "source": [
    "with open(path_results + '\\\\230116_lst_lists_phrases_Romantik_TOKENIZED.pkl', 'wb') as f:\n",
    "    pickle.dump(lst_lists_phrases_Romantik_TOKENIZED, f)"
   ]
  },
  {
   "cell_type": "code",
   "execution_count": 45,
   "id": "e9ea34e2",
   "metadata": {},
   "outputs": [],
   "source": [
    "with open(path_results + '\\\\230116_lst_lists_phrases_Realismus_TOKENIZED.pkl', 'wb') as f:\n",
    "    pickle.dump(lst_lists_phrases_Realismus_TOKENIZED, f)"
   ]
  },
  {
   "cell_type": "code",
   "execution_count": 46,
   "id": "581c22eb",
   "metadata": {},
   "outputs": [],
   "source": [
    "with open(path_results + '\\\\230116_lst_lists_phrases_Naturalismus_TOKENIZED.pkl', 'wb') as f:\n",
    "    pickle.dump(lst_lists_phrases_Naturalismus_TOKENIZED, f)"
   ]
  },
  {
   "cell_type": "code",
   "execution_count": null,
   "id": "b9dcf0be",
   "metadata": {},
   "outputs": [],
   "source": []
  }
 ],
 "metadata": {
  "kernelspec": {
   "display_name": "Python 3 (ipykernel)",
   "language": "python",
   "name": "python3"
  },
  "language_info": {
   "codemirror_mode": {
    "name": "ipython",
    "version": 3
   },
   "file_extension": ".py",
   "mimetype": "text/x-python",
   "name": "python",
   "nbconvert_exporter": "python",
   "pygments_lexer": "ipython3",
   "version": "3.10.9"
  }
 },
 "nbformat": 4,
 "nbformat_minor": 5
}
