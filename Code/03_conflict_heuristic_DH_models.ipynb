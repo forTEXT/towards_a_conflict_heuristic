{
 "cells": [
  {
   "cell_type": "markdown",
   "id": "8c5104f6",
   "metadata": {},
   "source": [
    "# Towards a Conflict Heuristic (DH 2023)\n",
    "\n",
    "## 03. Create Models\n",
    "\n",
    "Last updated: 16.01.2023\n",
    "\n",
    "julian.haeussler[at]tu-darmstadt.de"
   ]
  },
  {
   "cell_type": "code",
   "execution_count": 1,
   "id": "d2898a0b",
   "metadata": {},
   "outputs": [],
   "source": [
    "# imports\n",
    "\n",
    "from gensim.models import Word2Vec\n",
    "import pickle"
   ]
  },
  {
   "cell_type": "code",
   "execution_count": 2,
   "id": "86c80558",
   "metadata": {},
   "outputs": [],
   "source": [
    "# paths\n",
    "\n",
    "path_data = r'C:\\Users\\Public\\Data\\conflict_heuristics\\pickled'\n",
    "\n",
    "path_results = r'C:\\Users\\Public\\Data\\conflict_heuristics\\models'"
   ]
  },
  {
   "cell_type": "code",
   "execution_count": 3,
   "id": "e5b2bec4",
   "metadata": {},
   "outputs": [],
   "source": [
    "# read in corpora\n",
    "\n",
    "with open(path_data + '\\\\230116_lst_lists_phrases_Romantik_LEMMATIZED.pkl', 'rb') as f:\n",
    "    lst_lists_phrases_Romantik = pickle.load(f)"
   ]
  },
  {
   "cell_type": "code",
   "execution_count": 4,
   "id": "2310272c",
   "metadata": {},
   "outputs": [],
   "source": [
    "with open(path_data + '\\\\230116_lst_lists_phrases_Realismus_LEMMATIZED.pkl', 'rb') as f:\n",
    "    lst_lists_phrases_Realismus = pickle.load(f)"
   ]
  },
  {
   "cell_type": "code",
   "execution_count": 5,
   "id": "37806c90",
   "metadata": {},
   "outputs": [],
   "source": [
    "with open(path_data + '\\\\230116_lst_lists_phrases_Naturalismus_LEMMATIZED.pkl', 'rb') as f:\n",
    "    lst_lists_phrases_Naturalismus = pickle.load(f)"
   ]
  },
  {
   "cell_type": "code",
   "execution_count": null,
   "id": "66cbf439",
   "metadata": {},
   "outputs": [],
   "source": []
  },
  {
   "cell_type": "code",
   "execution_count": 6,
   "id": "5fa0e8d7",
   "metadata": {},
   "outputs": [],
   "source": [
    "# create lists of phrases\n",
    "\n",
    "lst_phrases_Romantik = [phrase for novel in lst_lists_phrases_Romantik for phrase in novel]"
   ]
  },
  {
   "cell_type": "code",
   "execution_count": 7,
   "id": "7a62b901",
   "metadata": {},
   "outputs": [
    {
     "data": {
      "text/plain": [
       "1104199"
      ]
     },
     "execution_count": 7,
     "metadata": {},
     "output_type": "execute_result"
    }
   ],
   "source": [
    "len(lst_phrases_Romantik)"
   ]
  },
  {
   "cell_type": "code",
   "execution_count": 8,
   "id": "1c73201e",
   "metadata": {
    "scrolled": true
   },
   "outputs": [
    {
     "data": {
      "text/plain": [
       "[['ein',\n",
       "  'lieb',\n",
       "  'mädchen',\n",
       "  'sollen',\n",
       "  'du',\n",
       "  'heute',\n",
       "  'kennen',\n",
       "  'lernen',\n",
       "  'alexander'],\n",
       " ['alexander',\n",
       "  'sagen',\n",
       "  'der',\n",
       "  'verwitwete',\n",
       "  'generalin',\n",
       "  'von',\n",
       "  'zwenkau',\n",
       "  'zu',\n",
       "  'mein',\n",
       "  'neffe',\n",
       "  'einer',\n",
       "  'zwanzigjährigen',\n",
       "  'husarenoffizier'],\n",
       " ['der',\n",
       "  'aus',\n",
       "  'der',\n",
       "  'residenz',\n",
       "  'kommen',\n",
       "  'sein',\n",
       "  'ich',\n",
       "  'in',\n",
       "  'der',\n",
       "  'landstadt',\n",
       "  'zu',\n",
       "  'besuchen'],\n",
       " ['in', 'der', 'ich', 'wohnen'],\n",
       " ['der', 'sein', 'einen', 'parthie', 'für', 'sich']]"
      ]
     },
     "execution_count": 8,
     "metadata": {},
     "output_type": "execute_result"
    }
   ],
   "source": [
    "lst_phrases_Romantik[:5]"
   ]
  },
  {
   "cell_type": "code",
   "execution_count": 9,
   "id": "86bce0a0",
   "metadata": {},
   "outputs": [],
   "source": [
    "lst_phrases_Realismus = [phrase for novel in lst_lists_phrases_Realismus for phrase in novel]"
   ]
  },
  {
   "cell_type": "code",
   "execution_count": 10,
   "id": "8da15f92",
   "metadata": {},
   "outputs": [],
   "source": [
    "lst_phrases_Naturalismus = [phrase for novel in lst_lists_phrases_Naturalismus for phrase in novel]"
   ]
  },
  {
   "cell_type": "code",
   "execution_count": 11,
   "id": "2623a8c0",
   "metadata": {},
   "outputs": [
    {
     "data": {
      "text/plain": [
       "452321"
      ]
     },
     "execution_count": 11,
     "metadata": {},
     "output_type": "execute_result"
    }
   ],
   "source": [
    "len(lst_phrases_Realismus)"
   ]
  },
  {
   "cell_type": "code",
   "execution_count": 12,
   "id": "dded7b2a",
   "metadata": {},
   "outputs": [
    {
     "data": {
      "text/plain": [
       "459557"
      ]
     },
     "execution_count": 12,
     "metadata": {},
     "output_type": "execute_result"
    }
   ],
   "source": [
    "len(lst_phrases_Naturalismus)"
   ]
  },
  {
   "cell_type": "code",
   "execution_count": null,
   "id": "b59310e4",
   "metadata": {},
   "outputs": [],
   "source": []
  },
  {
   "cell_type": "code",
   "execution_count": null,
   "id": "cf8d1300",
   "metadata": {},
   "outputs": [],
   "source": []
  },
  {
   "cell_type": "code",
   "execution_count": 15,
   "id": "55f94e72",
   "metadata": {},
   "outputs": [],
   "source": [
    "# combine Realismus and Naturalismus\n",
    "\n",
    "lst_phrases_RealismusNaturalismus = lst_phrases_Realismus.copy()"
   ]
  },
  {
   "cell_type": "code",
   "execution_count": 16,
   "id": "6b256ba8",
   "metadata": {},
   "outputs": [],
   "source": [
    "lst_phrases_RealismusNaturalismus.extend(lst_phrases_Naturalismus)"
   ]
  },
  {
   "cell_type": "code",
   "execution_count": 17,
   "id": "cd2c1baf",
   "metadata": {},
   "outputs": [
    {
     "data": {
      "text/plain": [
       "911878"
      ]
     },
     "execution_count": 17,
     "metadata": {},
     "output_type": "execute_result"
    }
   ],
   "source": [
    "len(lst_phrases_RealismusNaturalismus)"
   ]
  },
  {
   "cell_type": "code",
   "execution_count": null,
   "id": "583d3b21",
   "metadata": {},
   "outputs": [],
   "source": []
  },
  {
   "cell_type": "code",
   "execution_count": 18,
   "id": "69163c70",
   "metadata": {},
   "outputs": [],
   "source": [
    "# create models\n",
    "\n",
    "# parameters: nach best practice Brottrager et al. 2022 (architecture = Skip-gram, vector size = 300, epochs = 10) \n",
    "#             + min_count = 1 (!)\n",
    "\n",
    "model_Romantik = Word2Vec(lst_phrases_Romantik, vector_size=300, window=5, workers=6, min_count=1, sg=1, epochs=10)"
   ]
  },
  {
   "cell_type": "code",
   "execution_count": 19,
   "id": "4b015c18",
   "metadata": {},
   "outputs": [],
   "source": [
    "model_RealismusNaturalismus = Word2Vec(lst_phrases_RealismusNaturalismus, vector_size=300, window=5, workers=6, min_count=1, sg=1, epochs=10)"
   ]
  },
  {
   "cell_type": "code",
   "execution_count": null,
   "id": "657f2a01",
   "metadata": {},
   "outputs": [],
   "source": []
  },
  {
   "cell_type": "code",
   "execution_count": 20,
   "id": "c3d663bf",
   "metadata": {},
   "outputs": [],
   "source": [
    "# save\n",
    "\n",
    "model_Romantik.wv.save(path_results + '\\\\230116_model_Romantik.kv')"
   ]
  },
  {
   "cell_type": "code",
   "execution_count": 21,
   "id": "96de94ba",
   "metadata": {},
   "outputs": [],
   "source": [
    "model_RealismusNaturalismus.wv.save(path_results + '\\\\230116_model_RealismusNaturalismus.kv')"
   ]
  },
  {
   "cell_type": "code",
   "execution_count": null,
   "id": "516d6e75",
   "metadata": {},
   "outputs": [],
   "source": []
  },
  {
   "cell_type": "code",
   "execution_count": 22,
   "id": "7cfa419d",
   "metadata": {},
   "outputs": [
    {
     "data": {
      "text/plain": [
       "[('schaffend', 0.507726788520813),\n",
       " ('schöpferische', 0.5025715231895447),\n",
       " ('blütenwelt', 0.4898774027824402),\n",
       " ('eingeboren', 0.4865909218788147),\n",
       " ('allbeseelten', 0.48657113313674927),\n",
       " ('eigentlichste', 0.4839968979358673),\n",
       " ('armillarsphäre', 0.4829738736152649),\n",
       " ('modulation', 0.4807109236717224),\n",
       " ('weltleben', 0.4790152311325073),\n",
       " ('pflanzenwelt', 0.47742193937301636)]"
      ]
     },
     "execution_count": 22,
     "metadata": {},
     "output_type": "execute_result"
    }
   ],
   "source": [
    "# model info\n",
    "\n",
    "model_Romantik.wv.most_similar(\"natur\")"
   ]
  },
  {
   "cell_type": "code",
   "execution_count": 23,
   "id": "9b1ff97c",
   "metadata": {},
   "outputs": [
    {
     "data": {
      "text/plain": [
       "[('schwankung', 0.508905291557312),\n",
       " ('bedingt', 0.5060728788375854),\n",
       " ('vorurteilsfreiere', 0.5013084411621094),\n",
       " ('unnatur', 0.5012270212173462),\n",
       " ('einbildungskraft', 0.4987388551235199),\n",
       " ('gewöhnung', 0.4922521710395813),\n",
       " ('lebensauffassung', 0.49219468235969543),\n",
       " ('heilkraft', 0.48951807618141174),\n",
       " ('anreiz', 0.48244231939315796),\n",
       " ('selbstverleugnung', 0.48183292150497437)]"
      ]
     },
     "execution_count": 23,
     "metadata": {},
     "output_type": "execute_result"
    }
   ],
   "source": [
    "model_RealismusNaturalismus.wv.most_similar(\"natur\")"
   ]
  },
  {
   "cell_type": "code",
   "execution_count": null,
   "id": "e7e625a1",
   "metadata": {},
   "outputs": [],
   "source": []
  },
  {
   "cell_type": "code",
   "execution_count": 24,
   "id": "d1105f09",
   "metadata": {},
   "outputs": [
    {
     "name": "stdout",
     "output_type": "stream",
     "text": [
      "Word2Vec(vocab=198134, vector_size=300, alpha=0.025)\n"
     ]
    }
   ],
   "source": [
    "print(model_Romantik)"
   ]
  },
  {
   "cell_type": "code",
   "execution_count": 25,
   "id": "5e471a98",
   "metadata": {},
   "outputs": [
    {
     "name": "stdout",
     "output_type": "stream",
     "text": [
      "Word2Vec(vocab=195097, vector_size=300, alpha=0.025)\n"
     ]
    }
   ],
   "source": [
    "print(model_RealismusNaturalismus)"
   ]
  },
  {
   "cell_type": "code",
   "execution_count": null,
   "id": "91266631",
   "metadata": {},
   "outputs": [],
   "source": []
  }
 ],
 "metadata": {
  "kernelspec": {
   "display_name": "Python 3 (ipykernel)",
   "language": "python",
   "name": "python3"
  },
  "language_info": {
   "codemirror_mode": {
    "name": "ipython",
    "version": 3
   },
   "file_extension": ".py",
   "mimetype": "text/x-python",
   "name": "python",
   "nbconvert_exporter": "python",
   "pygments_lexer": "ipython3",
   "version": "3.10.9"
  }
 },
 "nbformat": 4,
 "nbformat_minor": 5
}
