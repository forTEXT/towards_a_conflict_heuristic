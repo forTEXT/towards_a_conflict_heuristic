{
 "cells": [
  {
   "cell_type": "markdown",
   "id": "225a0655",
   "metadata": {},
   "source": [
    "# Towards a Conflict Heuristic (DH 2023)\n",
    "\n",
    "## 06. Filter Extreme Groups\n",
    "\n",
    "Last updated: 25.04.2023\n",
    "\n",
    "julian.haeussler[at]tu-darmstadt.de"
   ]
  },
  {
   "cell_type": "code",
   "execution_count": 1,
   "id": "717840ee",
   "metadata": {},
   "outputs": [],
   "source": [
    "# imports\n",
    "\n",
    "import csv\n",
    "import pandas as pd\n",
    "import pickle"
   ]
  },
  {
   "cell_type": "code",
   "execution_count": null,
   "id": "02efd79e",
   "metadata": {},
   "outputs": [],
   "source": []
  },
  {
   "cell_type": "code",
   "execution_count": 2,
   "id": "667d8304",
   "metadata": {},
   "outputs": [],
   "source": [
    "# read in files\n",
    "\n",
    "df_VPs_Romantik_core = pd.read_csv('..//Analyseergebnisse//csv//230420_df_VPs_Romantik_core.csv', index_col=0)"
   ]
  },
  {
   "cell_type": "code",
   "execution_count": 3,
   "id": "3732b061",
   "metadata": {},
   "outputs": [],
   "source": [
    "df_VPs_Realismus = pd.read_csv('..//Analyseergebnisse//csv//230420_df_VPs_Realismus.csv', index_col=0)"
   ]
  },
  {
   "cell_type": "code",
   "execution_count": 4,
   "id": "1a6f3039",
   "metadata": {},
   "outputs": [],
   "source": [
    "df_VPs_Naturalismus = pd.read_csv('..//Analyseergebnisse//csv//230420_df_VPs_Naturalismus.csv', index_col=0)"
   ]
  },
  {
   "cell_type": "code",
   "execution_count": null,
   "id": "a8119b9c",
   "metadata": {},
   "outputs": [],
   "source": []
  },
  {
   "cell_type": "code",
   "execution_count": 5,
   "id": "14955dea",
   "metadata": {},
   "outputs": [],
   "source": [
    "# adjust columns with phrases\n",
    "\n",
    "df_VPs_Romantik_core['phrase_tokenized'] = df_VPs_Romantik_core['phrase_tokenized'].apply(eval)\n",
    "\n",
    "df_VPs_Romantik_core['phrase_lemmatized'] = df_VPs_Romantik_core['phrase_lemmatized'].apply(eval)"
   ]
  },
  {
   "cell_type": "code",
   "execution_count": 6,
   "id": "d72738d1",
   "metadata": {
    "scrolled": true
   },
   "outputs": [],
   "source": [
    "df_VPs_Realismus['phrase_tokenized'] = df_VPs_Realismus['phrase_tokenized'].apply(eval)\n",
    "\n",
    "df_VPs_Realismus['phrase_lemmatized'] = df_VPs_Realismus['phrase_lemmatized'].apply(eval)"
   ]
  },
  {
   "cell_type": "code",
   "execution_count": 7,
   "id": "2bc31641",
   "metadata": {
    "scrolled": true
   },
   "outputs": [],
   "source": [
    "df_VPs_Naturalismus['phrase_tokenized'] = df_VPs_Naturalismus['phrase_tokenized'].apply(eval)\n",
    "\n",
    "df_VPs_Naturalismus['phrase_lemmatized'] = df_VPs_Naturalismus['phrase_lemmatized'].apply(eval)"
   ]
  },
  {
   "cell_type": "code",
   "execution_count": null,
   "id": "bd7b6acb",
   "metadata": {},
   "outputs": [],
   "source": []
  },
  {
   "cell_type": "code",
   "execution_count": 8,
   "id": "b840d313",
   "metadata": {},
   "outputs": [],
   "source": [
    "# merge dataframes\n",
    "\n",
    "df_VPs_all = df_VPs_Romantik_core.copy()"
   ]
  },
  {
   "cell_type": "code",
   "execution_count": 9,
   "id": "0d02f0e6",
   "metadata": {},
   "outputs": [
    {
     "name": "stderr",
     "output_type": "stream",
     "text": [
      "<ipython-input-9-d80ea94601dc>:1: FutureWarning: The frame.append method is deprecated and will be removed from pandas in a future version. Use pandas.concat instead.\n",
      "  df_VPs_all = df_VPs_all.append(df_VPs_Realismus,ignore_index=True)\n"
     ]
    }
   ],
   "source": [
    "df_VPs_all = df_VPs_all.append(df_VPs_Realismus,ignore_index=True)"
   ]
  },
  {
   "cell_type": "code",
   "execution_count": 10,
   "id": "65a8c153",
   "metadata": {},
   "outputs": [
    {
     "name": "stderr",
     "output_type": "stream",
     "text": [
      "<ipython-input-10-9e57846e2d65>:1: FutureWarning: The frame.append method is deprecated and will be removed from pandas in a future version. Use pandas.concat instead.\n",
      "  df_VPs_all = df_VPs_all.append(df_VPs_Naturalismus,ignore_index=True)\n"
     ]
    }
   ],
   "source": [
    "df_VPs_all = df_VPs_all.append(df_VPs_Naturalismus,ignore_index=True)"
   ]
  },
  {
   "cell_type": "code",
   "execution_count": 11,
   "id": "2f5aff29",
   "metadata": {},
   "outputs": [
    {
     "data": {
      "text/plain": [
       "1162735"
      ]
     },
     "execution_count": 11,
     "metadata": {},
     "output_type": "execute_result"
    }
   ],
   "source": [
    "len(df_VPs_all)"
   ]
  },
  {
   "cell_type": "code",
   "execution_count": 12,
   "id": "ca8d0317",
   "metadata": {},
   "outputs": [
    {
     "data": {
      "text/html": [
       "<div>\n",
       "<style scoped>\n",
       "    .dataframe tbody tr th:only-of-type {\n",
       "        vertical-align: middle;\n",
       "    }\n",
       "\n",
       "    .dataframe tbody tr th {\n",
       "        vertical-align: top;\n",
       "    }\n",
       "\n",
       "    .dataframe thead th {\n",
       "        text-align: right;\n",
       "    }\n",
       "</style>\n",
       "<table border=\"1\" class=\"dataframe\">\n",
       "  <thead>\n",
       "    <tr style=\"text-align: right;\">\n",
       "      <th></th>\n",
       "      <th>phrase_tokenized</th>\n",
       "      <th>phrase_lemmatized</th>\n",
       "      <th>mean_val_adj</th>\n",
       "      <th>mean_aro_adj</th>\n",
       "      <th>mean_ep_adj</th>\n",
       "      <th>mean_val_noun</th>\n",
       "      <th>mean_aro_noun</th>\n",
       "      <th>mean_ep_noun</th>\n",
       "      <th>mean_conf_dornseiff</th>\n",
       "      <th>mean_conf_annotation</th>\n",
       "      <th>novel_title</th>\n",
       "      <th>novel_beg</th>\n",
       "      <th>novel_end</th>\n",
       "      <th>phrase_pos</th>\n",
       "    </tr>\n",
       "  </thead>\n",
       "  <tbody>\n",
       "    <tr>\n",
       "      <th>0</th>\n",
       "      <td>[dem, schutzgeist, bleibt, ein, treuer, sinn, ...</td>\n",
       "      <td>[der, schutzgeist, bleiben, einen, treu, sinn,...</td>\n",
       "      <td>-0.008388</td>\n",
       "      <td>0.007577</td>\n",
       "      <td>-0.000145</td>\n",
       "      <td>0.007036</td>\n",
       "      <td>0.224101</td>\n",
       "      <td>0.006323</td>\n",
       "      <td>0.004102</td>\n",
       "      <td>-0.016558</td>\n",
       "      <td>Arnim_Achim_von_Armut,_Reichtum,_Schuld_und_Bu...</td>\n",
       "      <td>0</td>\n",
       "      <td>17602</td>\n",
       "      <td>0</td>\n",
       "    </tr>\n",
       "    <tr>\n",
       "      <th>1</th>\n",
       "      <td>[so, ward, auch, mir, ein, hochgesellig, leben...</td>\n",
       "      <td>[so, ward, auch, sich, einen, hochgesellig, le...</td>\n",
       "      <td>0.000133</td>\n",
       "      <td>-0.000132</td>\n",
       "      <td>-0.000119</td>\n",
       "      <td>0.007223</td>\n",
       "      <td>0.257948</td>\n",
       "      <td>0.005676</td>\n",
       "      <td>-0.007146</td>\n",
       "      <td>-0.024458</td>\n",
       "      <td>Arnim_Achim_von_Armut,_Reichtum,_Schuld_und_Bu...</td>\n",
       "      <td>0</td>\n",
       "      <td>17602</td>\n",
       "      <td>1</td>\n",
       "    </tr>\n",
       "    <tr>\n",
       "      <th>2</th>\n",
       "      <td>[wo, sich, die, worte, leicht, zum, lied, gere...</td>\n",
       "      <td>[wo, sich, der, wort, leicht, zum, lied, reihen]</td>\n",
       "      <td>-0.000316</td>\n",
       "      <td>-0.002302</td>\n",
       "      <td>-0.000048</td>\n",
       "      <td>0.009215</td>\n",
       "      <td>0.211023</td>\n",
       "      <td>0.005506</td>\n",
       "      <td>-0.019410</td>\n",
       "      <td>-0.033575</td>\n",
       "      <td>Arnim_Achim_von_Armut,_Reichtum,_Schuld_und_Bu...</td>\n",
       "      <td>0</td>\n",
       "      <td>17602</td>\n",
       "      <td>2</td>\n",
       "    </tr>\n",
       "    <tr>\n",
       "      <th>3</th>\n",
       "      <td>[mein, lied, und, ich, wir, bleiben, treu, erg...</td>\n",
       "      <td>[mein, lied, und, ich, ich, bleiben, treu, erg...</td>\n",
       "      <td>-0.002559</td>\n",
       "      <td>-0.011589</td>\n",
       "      <td>-0.000559</td>\n",
       "      <td>0.013513</td>\n",
       "      <td>0.267624</td>\n",
       "      <td>0.006237</td>\n",
       "      <td>0.006048</td>\n",
       "      <td>-0.022191</td>\n",
       "      <td>Arnim_Achim_von_Armut,_Reichtum,_Schuld_und_Bu...</td>\n",
       "      <td>0</td>\n",
       "      <td>17602</td>\n",
       "      <td>3</td>\n",
       "    </tr>\n",
       "    <tr>\n",
       "      <th>4</th>\n",
       "      <td>[der, uns, hat, durch, melodie, geweiht]</td>\n",
       "      <td>[der, sich, haben, durch, melodie, weihen]</td>\n",
       "      <td>0.021854</td>\n",
       "      <td>0.004098</td>\n",
       "      <td>-0.000289</td>\n",
       "      <td>-0.004865</td>\n",
       "      <td>0.249832</td>\n",
       "      <td>0.006091</td>\n",
       "      <td>-0.008013</td>\n",
       "      <td>-0.029408</td>\n",
       "      <td>Arnim_Achim_von_Armut,_Reichtum,_Schuld_und_Bu...</td>\n",
       "      <td>0</td>\n",
       "      <td>17602</td>\n",
       "      <td>4</td>\n",
       "    </tr>\n",
       "  </tbody>\n",
       "</table>\n",
       "</div>"
      ],
      "text/plain": [
       "                                    phrase_tokenized  \\\n",
       "0  [dem, schutzgeist, bleibt, ein, treuer, sinn, ...   \n",
       "1  [so, ward, auch, mir, ein, hochgesellig, leben...   \n",
       "2  [wo, sich, die, worte, leicht, zum, lied, gere...   \n",
       "3  [mein, lied, und, ich, wir, bleiben, treu, erg...   \n",
       "4           [der, uns, hat, durch, melodie, geweiht]   \n",
       "\n",
       "                                   phrase_lemmatized  mean_val_adj  \\\n",
       "0  [der, schutzgeist, bleiben, einen, treu, sinn,...     -0.008388   \n",
       "1  [so, ward, auch, sich, einen, hochgesellig, le...      0.000133   \n",
       "2   [wo, sich, der, wort, leicht, zum, lied, reihen]     -0.000316   \n",
       "3  [mein, lied, und, ich, ich, bleiben, treu, erg...     -0.002559   \n",
       "4         [der, sich, haben, durch, melodie, weihen]      0.021854   \n",
       "\n",
       "   mean_aro_adj  mean_ep_adj  mean_val_noun  mean_aro_noun  mean_ep_noun  \\\n",
       "0      0.007577    -0.000145       0.007036       0.224101      0.006323   \n",
       "1     -0.000132    -0.000119       0.007223       0.257948      0.005676   \n",
       "2     -0.002302    -0.000048       0.009215       0.211023      0.005506   \n",
       "3     -0.011589    -0.000559       0.013513       0.267624      0.006237   \n",
       "4      0.004098    -0.000289      -0.004865       0.249832      0.006091   \n",
       "\n",
       "   mean_conf_dornseiff  mean_conf_annotation  \\\n",
       "0             0.004102             -0.016558   \n",
       "1            -0.007146             -0.024458   \n",
       "2            -0.019410             -0.033575   \n",
       "3             0.006048             -0.022191   \n",
       "4            -0.008013             -0.029408   \n",
       "\n",
       "                                         novel_title  novel_beg  novel_end  \\\n",
       "0  Arnim_Achim_von_Armut,_Reichtum,_Schuld_und_Bu...          0      17602   \n",
       "1  Arnim_Achim_von_Armut,_Reichtum,_Schuld_und_Bu...          0      17602   \n",
       "2  Arnim_Achim_von_Armut,_Reichtum,_Schuld_und_Bu...          0      17602   \n",
       "3  Arnim_Achim_von_Armut,_Reichtum,_Schuld_und_Bu...          0      17602   \n",
       "4  Arnim_Achim_von_Armut,_Reichtum,_Schuld_und_Bu...          0      17602   \n",
       "\n",
       "   phrase_pos  \n",
       "0           0  \n",
       "1           1  \n",
       "2           2  \n",
       "3           3  \n",
       "4           4  "
      ]
     },
     "execution_count": 12,
     "metadata": {},
     "output_type": "execute_result"
    }
   ],
   "source": [
    "df_VPs_all.head()"
   ]
  },
  {
   "cell_type": "code",
   "execution_count": 13,
   "id": "986918b6",
   "metadata": {},
   "outputs": [
    {
     "data": {
      "text/html": [
       "<div>\n",
       "<style scoped>\n",
       "    .dataframe tbody tr th:only-of-type {\n",
       "        vertical-align: middle;\n",
       "    }\n",
       "\n",
       "    .dataframe tbody tr th {\n",
       "        vertical-align: top;\n",
       "    }\n",
       "\n",
       "    .dataframe thead th {\n",
       "        text-align: right;\n",
       "    }\n",
       "</style>\n",
       "<table border=\"1\" class=\"dataframe\">\n",
       "  <thead>\n",
       "    <tr style=\"text-align: right;\">\n",
       "      <th></th>\n",
       "      <th>phrase_tokenized</th>\n",
       "      <th>phrase_lemmatized</th>\n",
       "      <th>mean_val_adj</th>\n",
       "      <th>mean_aro_adj</th>\n",
       "      <th>mean_ep_adj</th>\n",
       "      <th>mean_val_noun</th>\n",
       "      <th>mean_aro_noun</th>\n",
       "      <th>mean_ep_noun</th>\n",
       "      <th>mean_conf_dornseiff</th>\n",
       "      <th>mean_conf_annotation</th>\n",
       "      <th>novel_title</th>\n",
       "      <th>novel_beg</th>\n",
       "      <th>novel_end</th>\n",
       "      <th>phrase_pos</th>\n",
       "    </tr>\n",
       "  </thead>\n",
       "  <tbody>\n",
       "    <tr>\n",
       "      <th>1162730</th>\n",
       "      <td>[da, is, es, mit, die, jemütlichkeit, vorbei]</td>\n",
       "      <td>[da, is, ich, mit, der, jemütlichkeit, vorbei]</td>\n",
       "      <td>-0.034041</td>\n",
       "      <td>-0.028302</td>\n",
       "      <td>-0.000838</td>\n",
       "      <td>-0.022828</td>\n",
       "      <td>0.245703</td>\n",
       "      <td>0.007417</td>\n",
       "      <td>0.011059</td>\n",
       "      <td>0.024124</td>\n",
       "      <td>von_Wolzogen_Ernst_Die_Kinder_der_Excellenz</td>\n",
       "      <td>454377</td>\n",
       "      <td>459556</td>\n",
       "      <td>5175</td>\n",
       "    </tr>\n",
       "    <tr>\n",
       "      <th>1162731</th>\n",
       "      <td>[da, is, es, mit, die, jemütlichkeit, vorbei, ...</td>\n",
       "      <td>[da, is, ich, mit, der, jemütlichkeit, vorbei,...</td>\n",
       "      <td>-0.037090</td>\n",
       "      <td>-0.032042</td>\n",
       "      <td>-0.001190</td>\n",
       "      <td>-0.028645</td>\n",
       "      <td>0.261299</td>\n",
       "      <td>0.009258</td>\n",
       "      <td>0.009185</td>\n",
       "      <td>0.017285</td>\n",
       "      <td>von_Wolzogen_Ernst_Die_Kinder_der_Excellenz</td>\n",
       "      <td>454377</td>\n",
       "      <td>459556</td>\n",
       "      <td>5176</td>\n",
       "    </tr>\n",
       "    <tr>\n",
       "      <th>1162732</th>\n",
       "      <td>[indem, er, mit, dem, staubtuch, über, das, po...</td>\n",
       "      <td>[indem, ich, mit, der, staubtuch, über, der, p...</td>\n",
       "      <td>-0.038274</td>\n",
       "      <td>-0.017803</td>\n",
       "      <td>-0.000755</td>\n",
       "      <td>-0.031416</td>\n",
       "      <td>0.267780</td>\n",
       "      <td>0.009490</td>\n",
       "      <td>-0.003205</td>\n",
       "      <td>0.011354</td>\n",
       "      <td>von_Wolzogen_Ernst_Die_Kinder_der_Excellenz</td>\n",
       "      <td>454377</td>\n",
       "      <td>459556</td>\n",
       "      <td>5177</td>\n",
       "    </tr>\n",
       "    <tr>\n",
       "      <th>1162733</th>\n",
       "      <td>[fingerdick,  , würde, die, excellenzen, das, ...</td>\n",
       "      <td>[fingerdick,  , werden, der, excellenzen, der,...</td>\n",
       "      <td>-0.025761</td>\n",
       "      <td>-0.029890</td>\n",
       "      <td>-0.000920</td>\n",
       "      <td>-0.029795</td>\n",
       "      <td>0.253844</td>\n",
       "      <td>0.009189</td>\n",
       "      <td>0.004049</td>\n",
       "      <td>0.005450</td>\n",
       "      <td>von_Wolzogen_Ernst_Die_Kinder_der_Excellenz</td>\n",
       "      <td>454377</td>\n",
       "      <td>459556</td>\n",
       "      <td>5178</td>\n",
       "    </tr>\n",
       "    <tr>\n",
       "      <th>1162734</th>\n",
       "      <td>[ja, ja, cassildeken,  , du, plinkerst, auch, ...</td>\n",
       "      <td>[ja, ja, cassildeken,  , du, plinkerst, auch, ...</td>\n",
       "      <td>-0.032112</td>\n",
       "      <td>-0.019085</td>\n",
       "      <td>-0.000445</td>\n",
       "      <td>-0.033801</td>\n",
       "      <td>0.289540</td>\n",
       "      <td>0.010442</td>\n",
       "      <td>0.009963</td>\n",
       "      <td>0.019732</td>\n",
       "      <td>von_Wolzogen_Ernst_Die_Kinder_der_Excellenz</td>\n",
       "      <td>454377</td>\n",
       "      <td>459556</td>\n",
       "      <td>5179</td>\n",
       "    </tr>\n",
       "  </tbody>\n",
       "</table>\n",
       "</div>"
      ],
      "text/plain": [
       "                                          phrase_tokenized  \\\n",
       "1162730      [da, is, es, mit, die, jemütlichkeit, vorbei]   \n",
       "1162731  [da, is, es, mit, die, jemütlichkeit, vorbei, ...   \n",
       "1162732  [indem, er, mit, dem, staubtuch, über, das, po...   \n",
       "1162733  [fingerdick,  , würde, die, excellenzen, das, ...   \n",
       "1162734  [ja, ja, cassildeken,  , du, plinkerst, auch, ...   \n",
       "\n",
       "                                         phrase_lemmatized  mean_val_adj  \\\n",
       "1162730     [da, is, ich, mit, der, jemütlichkeit, vorbei]     -0.034041   \n",
       "1162731  [da, is, ich, mit, der, jemütlichkeit, vorbei,...     -0.037090   \n",
       "1162732  [indem, ich, mit, der, staubtuch, über, der, p...     -0.038274   \n",
       "1162733  [fingerdick,  , werden, der, excellenzen, der,...     -0.025761   \n",
       "1162734  [ja, ja, cassildeken,  , du, plinkerst, auch, ...     -0.032112   \n",
       "\n",
       "         mean_aro_adj  mean_ep_adj  mean_val_noun  mean_aro_noun  \\\n",
       "1162730     -0.028302    -0.000838      -0.022828       0.245703   \n",
       "1162731     -0.032042    -0.001190      -0.028645       0.261299   \n",
       "1162732     -0.017803    -0.000755      -0.031416       0.267780   \n",
       "1162733     -0.029890    -0.000920      -0.029795       0.253844   \n",
       "1162734     -0.019085    -0.000445      -0.033801       0.289540   \n",
       "\n",
       "         mean_ep_noun  mean_conf_dornseiff  mean_conf_annotation  \\\n",
       "1162730      0.007417             0.011059              0.024124   \n",
       "1162731      0.009258             0.009185              0.017285   \n",
       "1162732      0.009490            -0.003205              0.011354   \n",
       "1162733      0.009189             0.004049              0.005450   \n",
       "1162734      0.010442             0.009963              0.019732   \n",
       "\n",
       "                                         novel_title  novel_beg  novel_end  \\\n",
       "1162730  von_Wolzogen_Ernst_Die_Kinder_der_Excellenz     454377     459556   \n",
       "1162731  von_Wolzogen_Ernst_Die_Kinder_der_Excellenz     454377     459556   \n",
       "1162732  von_Wolzogen_Ernst_Die_Kinder_der_Excellenz     454377     459556   \n",
       "1162733  von_Wolzogen_Ernst_Die_Kinder_der_Excellenz     454377     459556   \n",
       "1162734  von_Wolzogen_Ernst_Die_Kinder_der_Excellenz     454377     459556   \n",
       "\n",
       "         phrase_pos  \n",
       "1162730        5175  \n",
       "1162731        5176  \n",
       "1162732        5177  \n",
       "1162733        5178  \n",
       "1162734        5179  "
      ]
     },
     "execution_count": 13,
     "metadata": {},
     "output_type": "execute_result"
    }
   ],
   "source": [
    "df_VPs_all.tail()"
   ]
  },
  {
   "cell_type": "code",
   "execution_count": null,
   "id": "6960fead",
   "metadata": {},
   "outputs": [],
   "source": []
  },
  {
   "cell_type": "markdown",
   "id": "403b884a",
   "metadata": {},
   "source": [
    "#### Filter extreme groups"
   ]
  },
  {
   "cell_type": "code",
   "execution_count": 14,
   "id": "96cacef4",
   "metadata": {},
   "outputs": [
    {
     "name": "stdout",
     "output_type": "stream",
     "text": [
      "116274\n"
     ]
    }
   ],
   "source": [
    "# get top 10%\n",
    "\n",
    "i = round(len(df_VPs_all)*0.1)\n",
    "\n",
    "print(i)"
   ]
  },
  {
   "cell_type": "code",
   "execution_count": 15,
   "id": "c35f883c",
   "metadata": {},
   "outputs": [],
   "source": [
    "# top/bottom 10% valence ADJ\n",
    "\n",
    "df_VPs_all_top_val_adj = df_VPs_all.sort_values('mean_val_adj',ascending=False).copy()\n",
    "\n",
    "lst_VPs_all_top_val_adj = df_VPs_all_top_val_adj.head(i)['phrase_tokenized'].tolist()\n",
    "\n",
    "lst_VPs_all_bottom_val_adj = df_VPs_all_top_val_adj.tail(i)['phrase_tokenized'].tolist()"
   ]
  },
  {
   "cell_type": "code",
   "execution_count": 16,
   "id": "19fadc80",
   "metadata": {},
   "outputs": [],
   "source": [
    "# top/bottom 10% arousal ADJ\n",
    "\n",
    "df_VPs_all_top_aro_adj = df_VPs_all.sort_values('mean_aro_adj',ascending=False).copy()\n",
    "\n",
    "lst_VPs_all_top_aro_adj = df_VPs_all_top_aro_adj.head(i)['phrase_tokenized'].tolist()\n",
    "\n",
    "lst_VPs_all_bottom_aro_adj = df_VPs_all_top_aro_adj.tail(i)['phrase_tokenized'].tolist()"
   ]
  },
  {
   "cell_type": "code",
   "execution_count": 17,
   "id": "1d060e98",
   "metadata": {},
   "outputs": [
    {
     "name": "stdout",
     "output_type": "stream",
     "text": [
      "28430\n"
     ]
    }
   ],
   "source": [
    "# determine those phrases that are in \n",
    "# A top 10% arousal and top 10% valence ADJ\n",
    "\n",
    "set_VPs_all_top_aro_adj = set((tuple(phrase) for phrase in lst_VPs_all_top_aro_adj))\n",
    "\n",
    "set_VPs_all_top_val_adj = set((tuple(phrase) for phrase in lst_VPs_all_top_val_adj))\n",
    "\n",
    "set_VPs_A_adj = set_VPs_all_top_aro_adj.intersection(set_VPs_all_top_val_adj)\n",
    "\n",
    "lst_VPs_A_adj = [list(phrase) for phrase in set_VPs_A_adj]\n",
    "\n",
    "print(len(lst_VPs_A_adj))"
   ]
  },
  {
   "cell_type": "code",
   "execution_count": 18,
   "id": "b218f2d1",
   "metadata": {},
   "outputs": [
    {
     "name": "stdout",
     "output_type": "stream",
     "text": [
      "5388\n"
     ]
    }
   ],
   "source": [
    "# B top 10% arousal and bottom 10% valence ADJ\n",
    "\n",
    "set_VPs_all_bottom_val_adj = set((tuple(phrase) for phrase in lst_VPs_all_bottom_val_adj))\n",
    "\n",
    "set_VPs_B_adj = set_VPs_all_top_aro_adj.intersection(set_VPs_all_bottom_val_adj)\n",
    "\n",
    "lst_VPs_B_adj = [list(phrase) for phrase in set_VPs_B_adj]\n",
    "\n",
    "print(len(lst_VPs_B_adj))"
   ]
  },
  {
   "cell_type": "code",
   "execution_count": 19,
   "id": "fc2eb9a1",
   "metadata": {},
   "outputs": [
    {
     "name": "stdout",
     "output_type": "stream",
     "text": [
      "11672\n"
     ]
    }
   ],
   "source": [
    "# C bottom 10% arousal and bottom 10% valence ADJ\n",
    "\n",
    "set_VPs_all_bottom_aro_adj = set((tuple(phrase) for phrase in lst_VPs_all_bottom_aro_adj))\n",
    "\n",
    "set_VPs_C_adj = set_VPs_all_bottom_aro_adj.intersection(set_VPs_all_bottom_val_adj)\n",
    "\n",
    "lst_VPs_C_adj = [list(phrase) for phrase in set_VPs_C_adj]\n",
    "\n",
    "print(len(lst_VPs_C_adj))"
   ]
  },
  {
   "cell_type": "code",
   "execution_count": 20,
   "id": "219ca57b",
   "metadata": {},
   "outputs": [
    {
     "name": "stdout",
     "output_type": "stream",
     "text": [
      "8001\n"
     ]
    }
   ],
   "source": [
    "# D bottom 10% arousal and top 10% valence ADJ\n",
    "\n",
    "set_VPs_D_adj = set_VPs_all_bottom_aro_adj.intersection(set_VPs_all_top_val_adj)\n",
    "\n",
    "lst_VPs_D_adj = [list(phrase) for phrase in set_VPs_D_adj]\n",
    "\n",
    "print(len(lst_VPs_D_adj))"
   ]
  },
  {
   "cell_type": "code",
   "execution_count": null,
   "id": "7bc39356",
   "metadata": {},
   "outputs": [],
   "source": []
  },
  {
   "cell_type": "code",
   "execution_count": 21,
   "id": "ffb91698",
   "metadata": {},
   "outputs": [],
   "source": [
    "# top/bottom 10% valence NOUN\n",
    "\n",
    "df_VPs_all_top_val_noun = df_VPs_all.sort_values('mean_val_noun',ascending=False).copy()\n",
    "\n",
    "lst_VPs_all_top_val_noun = df_VPs_all_top_val_noun.head(i)['phrase_tokenized'].tolist()\n",
    "\n",
    "lst_VPs_all_bottom_val_noun = df_VPs_all_top_val_noun.tail(i)['phrase_tokenized'].tolist()"
   ]
  },
  {
   "cell_type": "code",
   "execution_count": 22,
   "id": "e0280326",
   "metadata": {},
   "outputs": [],
   "source": [
    "# top/bottom 10% arousal NOUN\n",
    "\n",
    "df_VPs_all_top_aro_noun = df_VPs_all.sort_values('mean_aro_noun',ascending=False).copy()\n",
    "\n",
    "lst_VPs_all_top_aro_noun = df_VPs_all_top_aro_noun.head(i)['phrase_tokenized'].tolist()\n",
    "\n",
    "lst_VPs_all_bottom_aro_noun = df_VPs_all_top_aro_noun.tail(i)['phrase_tokenized'].tolist()"
   ]
  },
  {
   "cell_type": "code",
   "execution_count": 23,
   "id": "89b7009f",
   "metadata": {},
   "outputs": [
    {
     "name": "stdout",
     "output_type": "stream",
     "text": [
      "4336\n"
     ]
    }
   ],
   "source": [
    "# determine those phrases that are in \n",
    "# A top 10% arousal and top 10% valence NOUN\n",
    "\n",
    "set_VPs_all_top_aro_noun = set((tuple(phrase) for phrase in lst_VPs_all_top_aro_noun))\n",
    "\n",
    "set_VPs_all_top_val_noun = set((tuple(phrase) for phrase in lst_VPs_all_top_val_noun))\n",
    "\n",
    "set_VPs_A_noun = set_VPs_all_top_aro_noun.intersection(set_VPs_all_top_val_noun)\n",
    "\n",
    "lst_VPs_A_noun = [list(phrase) for phrase in set_VPs_A_noun]\n",
    "\n",
    "print(len(lst_VPs_A_noun))"
   ]
  },
  {
   "cell_type": "code",
   "execution_count": 24,
   "id": "bdb7a342",
   "metadata": {},
   "outputs": [
    {
     "name": "stdout",
     "output_type": "stream",
     "text": [
      "34201\n"
     ]
    }
   ],
   "source": [
    "# B top 10% arousal and bottom 10% valence NOUN\n",
    "\n",
    "set_VPs_all_bottom_val_noun = set((tuple(phrase) for phrase in lst_VPs_all_bottom_val_noun))\n",
    "\n",
    "set_VPs_B_noun = set_VPs_all_top_aro_noun.intersection(set_VPs_all_bottom_val_noun)\n",
    "\n",
    "lst_VPs_B_noun = [list(phrase) for phrase in set_VPs_B_noun]\n",
    "\n",
    "print(len(lst_VPs_B_noun))"
   ]
  },
  {
   "cell_type": "code",
   "execution_count": 25,
   "id": "4a360db5",
   "metadata": {},
   "outputs": [
    {
     "name": "stdout",
     "output_type": "stream",
     "text": [
      "4540\n"
     ]
    }
   ],
   "source": [
    "# C bottom 10% arousal and bottom 10% valence NOUN\n",
    "\n",
    "set_VPs_all_bottom_aro_noun = set((tuple(phrase) for phrase in lst_VPs_all_bottom_aro_noun))\n",
    "\n",
    "set_VPs_C_noun = set_VPs_all_bottom_aro_noun.intersection(set_VPs_all_bottom_val_noun)\n",
    "\n",
    "lst_VPs_C_noun = [list(phrase) for phrase in set_VPs_C_noun]\n",
    "\n",
    "print(len(lst_VPs_C_noun))"
   ]
  },
  {
   "cell_type": "code",
   "execution_count": 26,
   "id": "28d5bbbd",
   "metadata": {},
   "outputs": [
    {
     "name": "stdout",
     "output_type": "stream",
     "text": [
      "25178\n"
     ]
    }
   ],
   "source": [
    "# D bottom 10% arousal and top 10% valence NOUN\n",
    "\n",
    "set_VPs_D_noun = set_VPs_all_bottom_aro_noun.intersection(set_VPs_all_top_val_noun)\n",
    "\n",
    "lst_VPs_D_noun = [list(phrase) for phrase in set_VPs_D_noun]\n",
    "\n",
    "print(len(lst_VPs_D_noun))"
   ]
  },
  {
   "cell_type": "code",
   "execution_count": null,
   "id": "b9d2eedf",
   "metadata": {},
   "outputs": [],
   "source": []
  },
  {
   "cell_type": "code",
   "execution_count": 27,
   "id": "854c80cf",
   "metadata": {},
   "outputs": [],
   "source": [
    "# top/bottom 10% conflict (Dornseiff)\n",
    "\n",
    "df_VPs_all_top_conf_dorn = df_VPs_all.sort_values('mean_conf_dornseiff',ascending=False).copy()\n",
    "\n",
    "lst_VPs_all_top_conf_dorn = df_VPs_all_top_conf_dorn.head(i)['phrase_tokenized'].tolist()\n",
    "\n",
    "lst_VPs_all_bottom_conf_dorn = df_VPs_all_top_conf_dorn.tail(i)['phrase_tokenized'].tolist()"
   ]
  },
  {
   "cell_type": "code",
   "execution_count": 28,
   "id": "2f6ee1f3",
   "metadata": {},
   "outputs": [
    {
     "data": {
      "text/plain": [
       "116274"
      ]
     },
     "execution_count": 28,
     "metadata": {},
     "output_type": "execute_result"
    }
   ],
   "source": [
    "len(lst_VPs_all_top_conf_dorn)"
   ]
  },
  {
   "cell_type": "code",
   "execution_count": 29,
   "id": "2a4cb336",
   "metadata": {},
   "outputs": [
    {
     "data": {
      "text/plain": [
       "116274"
      ]
     },
     "execution_count": 29,
     "metadata": {},
     "output_type": "execute_result"
    }
   ],
   "source": [
    "len(lst_VPs_all_bottom_conf_dorn)"
   ]
  },
  {
   "cell_type": "code",
   "execution_count": null,
   "id": "597c60ac",
   "metadata": {},
   "outputs": [],
   "source": []
  },
  {
   "cell_type": "code",
   "execution_count": 30,
   "id": "7292ed55",
   "metadata": {},
   "outputs": [],
   "source": [
    "# top/bottom 10% conflict (annotation)\n",
    "\n",
    "df_VPs_all_top_conf_anno = df_VPs_all.sort_values('mean_conf_annotation',ascending=False).copy()\n",
    "\n",
    "lst_VPs_all_top_conf_anno = df_VPs_all_top_conf_anno.head(i)['phrase_tokenized'].tolist()\n",
    "\n",
    "lst_VPs_all_bottom_conf_anno = df_VPs_all_top_conf_anno.tail(i)['phrase_tokenized'].tolist()"
   ]
  },
  {
   "cell_type": "code",
   "execution_count": null,
   "id": "46add067",
   "metadata": {},
   "outputs": [],
   "source": []
  },
  {
   "cell_type": "code",
   "execution_count": 31,
   "id": "409aa240",
   "metadata": {},
   "outputs": [],
   "source": [
    "# save\n",
    "\n",
    "with open('..//Analyseergebnisse//pickled//groups//230425_lst_VPs_all_top_val_adj.pkl', 'wb') as f:\n",
    "    pickle.dump(lst_VPs_all_top_val_adj, f)\n",
    "    \n",
    "with open('..//Analyseergebnisse//pickled//groups//230425_lst_VPs_all_bottom_val_adj.pkl', 'wb') as f:\n",
    "    pickle.dump(lst_VPs_all_bottom_val_adj, f)"
   ]
  },
  {
   "cell_type": "code",
   "execution_count": 32,
   "id": "c97a1583",
   "metadata": {},
   "outputs": [],
   "source": [
    "with open('..//Analyseergebnisse//pickled//groups//230425_lst_VPs_all_top_aro_adj.pkl', 'wb') as f:\n",
    "    pickle.dump(lst_VPs_all_top_aro_adj, f)\n",
    "    \n",
    "with open('..//Analyseergebnisse//pickled//groups//230425_lst_VPs_all_bottom_aro_adj.pkl', 'wb') as f:\n",
    "    pickle.dump(lst_VPs_all_bottom_aro_adj, f)"
   ]
  },
  {
   "cell_type": "code",
   "execution_count": 33,
   "id": "faced999",
   "metadata": {},
   "outputs": [],
   "source": [
    "with open('..//Analyseergebnisse//pickled//groups//230425_lst_VPs_A_adj.pkl', 'wb') as f:\n",
    "    pickle.dump(lst_VPs_A_adj, f)\n",
    "\n",
    "with open('..//Analyseergebnisse//pickled//groups//230425_lst_VPs_B_adj.pkl', 'wb') as f:\n",
    "    pickle.dump(lst_VPs_B_adj, f)\n",
    "\n",
    "with open('..//Analyseergebnisse//pickled//groups//230425_lst_VPs_C_adj.pkl', 'wb') as f:\n",
    "    pickle.dump(lst_VPs_C_adj, f)\n",
    "\n",
    "with open('..//Analyseergebnisse//pickled//groups//230425_lst_VPs_D_adj.pkl', 'wb') as f:\n",
    "    pickle.dump(lst_VPs_D_adj, f)"
   ]
  },
  {
   "cell_type": "code",
   "execution_count": 34,
   "id": "5bb637e2",
   "metadata": {},
   "outputs": [],
   "source": [
    "with open('..//Analyseergebnisse//pickled//groups//230425_lst_VPs_all_top_val_noun.pkl', 'wb') as f:\n",
    "    pickle.dump(lst_VPs_all_top_val_noun, f)\n",
    "\n",
    "with open('..//Analyseergebnisse//pickled//groups//230425_lst_VPs_all_bottom_val_noun.pkl', 'wb') as f:\n",
    "    pickle.dump(lst_VPs_all_bottom_val_noun, f)"
   ]
  },
  {
   "cell_type": "code",
   "execution_count": 35,
   "id": "00a6ea2c",
   "metadata": {},
   "outputs": [],
   "source": [
    "with open('..//Analyseergebnisse//pickled//groups//230425_lst_VPs_all_top_aro_noun.pkl', 'wb') as f:\n",
    "    pickle.dump(lst_VPs_all_top_aro_noun, f)\n",
    "\n",
    "with open('..//Analyseergebnisse//pickled//groups//230425_lst_VPs_all_bottom_aro_noun.pkl', 'wb') as f:\n",
    "    pickle.dump(lst_VPs_all_bottom_aro_noun, f)"
   ]
  },
  {
   "cell_type": "code",
   "execution_count": 36,
   "id": "7b7ea330",
   "metadata": {},
   "outputs": [],
   "source": [
    "with open('..//Analyseergebnisse//pickled//groups//230425_lst_VPs_A_noun.pkl', 'wb') as f:\n",
    "    pickle.dump(lst_VPs_A_noun, f)\n",
    "\n",
    "with open('..//Analyseergebnisse//pickled//groups//230425_lst_VPs_B_noun.pkl', 'wb') as f:\n",
    "    pickle.dump(lst_VPs_B_noun, f)\n",
    "\n",
    "with open('..//Analyseergebnisse//pickled//groups//230425_lst_VPs_C_noun.pkl', 'wb') as f:\n",
    "    pickle.dump(lst_VPs_C_noun, f)\n",
    "\n",
    "with open('..//Analyseergebnisse//pickled//groups//230425_lst_VPs_D_noun.pkl', 'wb') as f:\n",
    "    pickle.dump(lst_VPs_D_noun, f)"
   ]
  },
  {
   "cell_type": "code",
   "execution_count": null,
   "id": "de276154",
   "metadata": {},
   "outputs": [],
   "source": []
  },
  {
   "cell_type": "code",
   "execution_count": 37,
   "id": "8ceebbbe",
   "metadata": {},
   "outputs": [],
   "source": [
    "with open('..//Analyseergebnisse//pickled//groups//230425_lst_VPs_all_top_conf_dorn.pkl', 'wb') as f:\n",
    "    pickle.dump(lst_VPs_all_top_conf_dorn, f)\n",
    "\n",
    "with open('..//Analyseergebnisse//pickled//groups//230425_lst_VPs_all_bottom_conf_dorn.pkl', 'wb') as f:\n",
    "    pickle.dump(lst_VPs_all_bottom_conf_dorn, f)"
   ]
  },
  {
   "cell_type": "code",
   "execution_count": 38,
   "id": "95224512",
   "metadata": {},
   "outputs": [],
   "source": [
    "with open('..//Analyseergebnisse//pickled//groups//230425_lst_VPs_all_top_conf_anno.pkl', 'wb') as f:\n",
    "    pickle.dump(lst_VPs_all_top_conf_anno, f)\n",
    "\n",
    "with open('..//Analyseergebnisse//pickled//groups//230425_lst_VPs_all_bottom_conf_anno.pkl', 'wb') as f:\n",
    "    pickle.dump(lst_VPs_all_bottom_conf_anno, f)"
   ]
  },
  {
   "cell_type": "code",
   "execution_count": null,
   "id": "2c701621",
   "metadata": {},
   "outputs": [],
   "source": []
  },
  {
   "cell_type": "markdown",
   "id": "a0bb40f5",
   "metadata": {},
   "source": [
    "#### Overlap approach 1"
   ]
  },
  {
   "cell_type": "code",
   "execution_count": 39,
   "id": "1dea22d3",
   "metadata": {},
   "outputs": [
    {
     "data": {
      "text/plain": [
       "41523"
      ]
     },
     "execution_count": 39,
     "metadata": {},
     "output_type": "execute_result"
    }
   ],
   "source": [
    "# overlap in top/bottom 10% -> skewed as top mostly contains label words\n",
    "# top val\n",
    "\n",
    "set_VPs_top_val_both = set_VPs_all_top_val_adj.intersection(set_VPs_all_top_val_noun)\n",
    "\n",
    "len(set_VPs_top_val_both)"
   ]
  },
  {
   "cell_type": "code",
   "execution_count": 40,
   "id": "3c79edae",
   "metadata": {},
   "outputs": [
    {
     "data": {
      "text/plain": [
       "22697"
      ]
     },
     "execution_count": 40,
     "metadata": {},
     "output_type": "execute_result"
    }
   ],
   "source": [
    "# bottom val\n",
    "\n",
    "set_VPs_bottom_val_both = set_VPs_all_bottom_val_adj.intersection(set_VPs_all_bottom_val_noun)\n",
    "\n",
    "len(set_VPs_bottom_val_both)"
   ]
  },
  {
   "cell_type": "code",
   "execution_count": 41,
   "id": "20890e3c",
   "metadata": {},
   "outputs": [
    {
     "data": {
      "text/plain": [
       "8002"
      ]
     },
     "execution_count": 41,
     "metadata": {},
     "output_type": "execute_result"
    }
   ],
   "source": [
    "# top aro\n",
    "\n",
    "set_VPs_top_aro_both = set_VPs_all_top_aro_adj.intersection(set_VPs_all_top_aro_noun)\n",
    "\n",
    "len(set_VPs_top_aro_both)"
   ]
  },
  {
   "cell_type": "code",
   "execution_count": 42,
   "id": "ab46b761",
   "metadata": {},
   "outputs": [
    {
     "data": {
      "text/plain": [
       "13893"
      ]
     },
     "execution_count": 42,
     "metadata": {},
     "output_type": "execute_result"
    }
   ],
   "source": [
    "# bottom aro\n",
    "\n",
    "set_VPs_bottom_aro_both = set_VPs_all_bottom_aro_adj.intersection(set_VPs_all_bottom_aro_noun)\n",
    "\n",
    "len(set_VPs_bottom_aro_both)"
   ]
  },
  {
   "cell_type": "code",
   "execution_count": null,
   "id": "b1efbd5d",
   "metadata": {},
   "outputs": [],
   "source": []
  }
 ],
 "metadata": {
  "kernelspec": {
   "display_name": "Python 3 (ipykernel)",
   "language": "python",
   "name": "python3"
  },
  "language_info": {
   "codemirror_mode": {
    "name": "ipython",
    "version": 3
   },
   "file_extension": ".py",
   "mimetype": "text/x-python",
   "name": "python",
   "nbconvert_exporter": "python",
   "pygments_lexer": "ipython3",
   "version": "3.10.9"
  }
 },
 "nbformat": 4,
 "nbformat_minor": 5
}
